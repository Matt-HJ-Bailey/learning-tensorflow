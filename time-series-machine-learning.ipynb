{
 "cells": [
  {
   "cell_type": "markdown",
   "id": "chemical-festival",
   "metadata": {},
   "source": [
    "# Time Series Machine Learning\n",
    "use the tf.data api to use machine learning to predict the future."
   ]
  },
  {
   "cell_type": "code",
   "execution_count": 1,
   "id": "dietary-chapel",
   "metadata": {},
   "outputs": [],
   "source": [
    "import numpy as np\n",
    "import matplotlib.pyplot as plt\n",
    "import tensorflow as tf"
   ]
  },
  {
   "cell_type": "code",
   "execution_count": 18,
   "id": "silver-grain",
   "metadata": {},
   "outputs": [],
   "source": [
    "def window_dataset(series, window_size:int, batch_size:int=32):\n",
    "    \"\"\"\n",
    "    From a time series, create a set of learnable windows.\n",
    "    \n",
    "    Parameters\n",
    "    ---------\n",
    "    Series\n",
    "        The series to learn\n",
    "    Window size\n",
    "        the size of window to learn from\n",
    "    batch size\n",
    "        The size of each batch in the dataset\n",
    "    \"\"\"\n",
    "    dataset = tf.data.Dataset.from_tensor_slices(series)\n",
    "    # We want windows of the same length!\n",
    "    # We also want batches of the window size\n",
    "    dataset = dataset.window(window_size+1, shift=1, drop_remainder=True)\n",
    "    dataset = dataset.flat_map(lambda window: window.batch(window_size+1))\n",
    "    # Use the previous window_size-1 data points to predict the next one, and shuffle the windows.\n",
    "    dataset = dataset.map(lambda window: (window[:-1], window[-1:]))\n",
    "    dataset = dataset.shuffle(len(series))\n",
    "    return dataset.batch(batch_size).prefetch(1)\n"
   ]
  },
  {
   "cell_type": "markdown",
   "id": "stupid-allen",
   "metadata": {},
   "source": [
    "## Time Series generation\n",
    "Here are some functions to generate a seasonal, noisy time series"
   ]
  },
  {
   "cell_type": "code",
   "execution_count": 33,
   "id": "clean-developer",
   "metadata": {},
   "outputs": [],
   "source": [
    "def trend(time:np.array, slope: float) -> np.array:\n",
    "    return (slope * time)\n",
    "\n",
    "def seasonal_pattern(season_time: np.array):\n",
    "    \"\"\"\n",
    "    This is arbitrary -- there could be multiple seasonal patterns.\n",
    "    \"\"\"\n",
    "    return np.where(\n",
    "        season_time < 0.4, np.cos(season_time * 2 * np.pi), np.exp(-3 * season_time)\n",
    "    )\n",
    "\n",
    "\n",
    "def seasonality(time: np.array, period: float, amplitude: float = 1, phase: float = 0):\n",
    "    season_time = ((time + phase) % period) / period\n",
    "    return amplitude * seasonal_pattern(season_time)\n",
    "\n",
    "\n",
    "def white_noise(time: np.array, noise_level: float, seed: int = 31415926):\n",
    "    rng = np.random.default_rng(seed=seed)\n",
    "    return rng.random(time.shape[0]) * noise_level"
   ]
  },
  {
   "cell_type": "code",
   "execution_count": 37,
   "id": "toxic-background",
   "metadata": {},
   "outputs": [
    {
     "data": {
      "text/plain": [
       "[<matplotlib.lines.Line2D at 0x26e9963d730>]"
      ]
     },
     "execution_count": 37,
     "metadata": {},
     "output_type": "execute_result"
    },
    {
     "data": {
      "image/png": "[encoded data removed]",
      "text/plain": [
       "<Figure size 432x288 with 1 Axes>"
      ]
     },
     "metadata": {
      "needs_background": "light"
     },
     "output_type": "display_data"
    }
   ],
   "source": [
    "time = np.arange(4*365 + 1)\n",
    "series = seasonality(time, period=365, amplitude=40) + white_noise(time, 10) + trend(time, 0.1)\n",
    "\n",
    "split_time = 1000\n",
    "\n",
    "time_train = time[:split_time]\n",
    "x_train = series[:split_time]\n",
    "\n",
    "time_valid = time[split_time:]\n",
    "x_valid = series[split_time:]\n",
    "\n",
    "plt.plot(time, series)"
   ]
  },
  {
   "cell_type": "markdown",
   "id": "military-fortune",
   "metadata": {},
   "source": [
    "## Learning\n",
    "First up, linear regression."
   ]
  },
  {
   "cell_type": "code",
   "execution_count": 41,
   "id": "animated-mailman",
   "metadata": {},
   "outputs": [],
   "source": [
    "window_size = 30\n",
    "train_set = window_dataset(x_train, window_size)\n",
    "valid_set = window_dataset(x_valid, window_size)\n",
    "\n",
    "lin_model = tf.keras.models.Sequential([\n",
    "    tf.keras.layers.Dense(1, input_shape=[window_size])\n",
    "])\n",
    "\n",
    "optimizer = tf.keras.optimizers.SGD(lr=1e-5, momentum=0.9)\n",
    "lin_model.compile(optimizer=optimizer,\n",
    "                 loss=tf.keras.losses.Huber(),\n",
    "                 metrics=[\"mae\"])\n",
    "early_stopping = tf.keras.callbacks.EarlyStopping(patience=10)"
   ]
  },
  {
   "cell_type": "code",
   "execution_count": 42,
   "id": "convertible-mapping",
   "metadata": {},
   "outputs": [
    {
     "name": "stdout",
     "output_type": "stream",
     "text": [
      "Epoch 1/500\n",
      "31/31 [==============================] - 1s 9ms/step - loss: 37.1954 - mae: 37.6910 - val_loss: 19.6083 - val_mae: 20.1072\n",
      "Epoch 2/500\n",
      "31/31 [==============================] - 0s 5ms/step - loss: 8.6636 - mae: 9.1507 - val_loss: 7.5886 - val_mae: 8.0681\n",
      "Epoch 3/500\n",
      "31/31 [==============================] - 0s 4ms/step - loss: 7.0241 - mae: 7.5101 - val_loss: 7.1158 - val_mae: 7.6013\n",
      "Epoch 4/500\n",
      "31/31 [==============================] - 0s 5ms/step - loss: 7.7281 - mae: 8.2172 - val_loss: 6.8025 - val_mae: 7.2862\n",
      "Epoch 5/500\n",
      "31/31 [==============================] - 0s 5ms/step - loss: 6.7409 - mae: 7.2225 - val_loss: 7.5972 - val_mae: 8.0784\n",
      "Epoch 6/500\n",
      "31/31 [==============================] - 0s 5ms/step - loss: 6.6950 - mae: 7.1734 - val_loss: 6.2246 - val_mae: 6.7063\n",
      "Epoch 7/500\n",
      "31/31 [==============================] - 0s 4ms/step - loss: 6.7518 - mae: 7.2290 - val_loss: 6.9802 - val_mae: 7.4577\n",
      "Epoch 8/500\n",
      "31/31 [==============================] - 0s 5ms/step - loss: 6.4339 - mae: 6.9139 - val_loss: 5.8827 - val_mae: 6.3647\n",
      "Epoch 9/500\n",
      "31/31 [==============================] - 0s 4ms/step - loss: 6.0606 - mae: 6.5429 - val_loss: 6.3499 - val_mae: 6.8293\n",
      "Epoch 10/500\n",
      "31/31 [==============================] - 0s 4ms/step - loss: 5.7353 - mae: 6.2189 - val_loss: 5.6539 - val_mae: 6.1399\n",
      "Epoch 11/500\n",
      "31/31 [==============================] - 0s 5ms/step - loss: 6.2903 - mae: 6.7722 - val_loss: 5.9557 - val_mae: 6.4305\n",
      "Epoch 12/500\n",
      "31/31 [==============================] - 0s 5ms/step - loss: 5.3431 - mae: 5.8236 - val_loss: 5.5093 - val_mae: 5.9885\n",
      "Epoch 13/500\n",
      "31/31 [==============================] - 0s 5ms/step - loss: 5.8293 - mae: 6.3100 - val_loss: 5.8942 - val_mae: 6.3669\n",
      "Epoch 14/500\n",
      "31/31 [==============================] - 0s 6ms/step - loss: 6.1761 - mae: 6.6594 - val_loss: 5.9399 - val_mae: 6.4136\n",
      "Epoch 15/500\n",
      "31/31 [==============================] - 0s 5ms/step - loss: 5.7000 - mae: 6.1848 - val_loss: 5.2673 - val_mae: 5.7414\n",
      "Epoch 16/500\n",
      "31/31 [==============================] - 0s 5ms/step - loss: 5.5474 - mae: 6.0291 - val_loss: 5.7794 - val_mae: 6.2521\n",
      "Epoch 17/500\n",
      "31/31 [==============================] - 0s 5ms/step - loss: 5.4651 - mae: 5.9408 - val_loss: 5.1297 - val_mae: 5.6123\n",
      "Epoch 18/500\n",
      "31/31 [==============================] - 0s 5ms/step - loss: 5.2465 - mae: 5.7283 - val_loss: 6.1877 - val_mae: 6.6737\n",
      "Epoch 19/500\n",
      "31/31 [==============================] - 0s 5ms/step - loss: 5.2340 - mae: 5.7150 - val_loss: 5.1007 - val_mae: 5.5758\n",
      "Epoch 20/500\n",
      "31/31 [==============================] - 0s 5ms/step - loss: 5.3154 - mae: 5.7919 - val_loss: 7.3011 - val_mae: 7.7838\n",
      "Epoch 21/500\n",
      "31/31 [==============================] - 0s 5ms/step - loss: 5.9375 - mae: 6.4139 - val_loss: 4.9173 - val_mae: 5.3950\n",
      "Epoch 22/500\n",
      "31/31 [==============================] - 0s 5ms/step - loss: 5.0786 - mae: 5.5515 - val_loss: 5.0974 - val_mae: 5.5766\n",
      "Epoch 23/500\n",
      "31/31 [==============================] - 0s 5ms/step - loss: 5.0812 - mae: 5.5566 - val_loss: 4.8348 - val_mae: 5.3090\n",
      "Epoch 24/500\n",
      "31/31 [==============================] - 0s 4ms/step - loss: 4.9190 - mae: 5.3976 - val_loss: 4.7933 - val_mae: 5.2660\n",
      "Epoch 25/500\n",
      "31/31 [==============================] - 0s 5ms/step - loss: 4.8347 - mae: 5.3116 - val_loss: 6.6050 - val_mae: 7.0859\n",
      "Epoch 26/500\n",
      "31/31 [==============================] - 0s 5ms/step - loss: 5.2370 - mae: 5.7129 - val_loss: 4.8979 - val_mae: 5.3722\n",
      "Epoch 27/500\n",
      "31/31 [==============================] - 0s 5ms/step - loss: 4.6991 - mae: 5.1762 - val_loss: 4.6887 - val_mae: 5.1615\n",
      "Epoch 28/500\n",
      "31/31 [==============================] - 0s 5ms/step - loss: 4.9139 - mae: 5.3921 - val_loss: 4.6592 - val_mae: 5.1434\n",
      "Epoch 29/500\n",
      "31/31 [==============================] - 0s 5ms/step - loss: 4.6709 - mae: 5.1481 - val_loss: 5.9509 - val_mae: 6.4374\n",
      "Epoch 30/500\n",
      "31/31 [==============================] - 0s 5ms/step - loss: 5.2591 - mae: 5.7351 - val_loss: 5.4598 - val_mae: 5.9396\n",
      "Epoch 31/500\n",
      "31/31 [==============================] - 0s 5ms/step - loss: 5.2153 - mae: 5.6878 - val_loss: 4.5291 - val_mae: 5.0041\n",
      "Epoch 32/500\n",
      "31/31 [==============================] - 0s 5ms/step - loss: 4.8209 - mae: 5.2998 - val_loss: 4.9027 - val_mae: 5.3821\n",
      "Epoch 33/500\n",
      "31/31 [==============================] - 0s 4ms/step - loss: 4.7646 - mae: 5.2463 - val_loss: 5.8335 - val_mae: 6.3205\n",
      "Epoch 34/500\n",
      "31/31 [==============================] - 0s 5ms/step - loss: 4.7629 - mae: 5.2386 - val_loss: 6.0215 - val_mae: 6.5067\n",
      "Epoch 35/500\n",
      "31/31 [==============================] - 0s 5ms/step - loss: 4.7543 - mae: 5.2299 - val_loss: 5.4910 - val_mae: 5.9747\n",
      "Epoch 36/500\n",
      "31/31 [==============================] - 0s 5ms/step - loss: 5.1016 - mae: 5.5777 - val_loss: 4.4570 - val_mae: 4.9386\n",
      "Epoch 37/500\n",
      "31/31 [==============================] - 0s 5ms/step - loss: 4.5487 - mae: 5.0301 - val_loss: 4.5336 - val_mae: 5.0112\n",
      "Epoch 38/500\n",
      "31/31 [==============================] - 0s 5ms/step - loss: 4.3451 - mae: 4.8194 - val_loss: 4.2691 - val_mae: 4.7418\n",
      "Epoch 39/500\n",
      "31/31 [==============================] - 0s 5ms/step - loss: 4.2529 - mae: 4.7301 - val_loss: 5.3879 - val_mae: 5.8718\n",
      "Epoch 40/500\n",
      "31/31 [==============================] - 0s 4ms/step - loss: 4.6990 - mae: 5.1761 - val_loss: 4.2183 - val_mae: 4.6923\n",
      "Epoch 41/500\n",
      "31/31 [==============================] - 0s 5ms/step - loss: 4.3526 - mae: 4.8285 - val_loss: 4.3407 - val_mae: 4.8065\n",
      "Epoch 42/500\n",
      "31/31 [==============================] - 0s 4ms/step - loss: 4.2292 - mae: 4.7027 - val_loss: 5.1645 - val_mae: 5.6428\n",
      "Epoch 43/500\n",
      "31/31 [==============================] - 0s 4ms/step - loss: 4.6066 - mae: 5.0813 - val_loss: 4.8411 - val_mae: 5.3165\n",
      "Epoch 44/500\n",
      "31/31 [==============================] - 0s 5ms/step - loss: 4.1975 - mae: 4.6694 - val_loss: 4.4974 - val_mae: 4.9702\n",
      "Epoch 45/500\n",
      "31/31 [==============================] - 0s 5ms/step - loss: 4.5945 - mae: 5.0732 - val_loss: 4.5926 - val_mae: 5.0656\n",
      "Epoch 46/500\n",
      "31/31 [==============================] - 0s 5ms/step - loss: 4.4007 - mae: 4.8781 - val_loss: 7.0446 - val_mae: 7.5368\n",
      "Epoch 47/500\n",
      "31/31 [==============================] - 0s 5ms/step - loss: 4.3759 - mae: 4.8487 - val_loss: 4.0523 - val_mae: 4.5251\n",
      "Epoch 48/500\n",
      "31/31 [==============================] - 0s 4ms/step - loss: 3.9989 - mae: 4.4674 - val_loss: 4.0778 - val_mae: 4.5515\n",
      "Epoch 49/500\n",
      "31/31 [==============================] - 0s 5ms/step - loss: 4.2419 - mae: 4.7109 - val_loss: 4.1073 - val_mae: 4.5743\n",
      "Epoch 50/500\n",
      "31/31 [==============================] - 0s 5ms/step - loss: 4.2066 - mae: 4.6811 - val_loss: 3.9902 - val_mae: 4.4634\n",
      "Epoch 51/500\n",
      "31/31 [==============================] - 0s 4ms/step - loss: 4.2246 - mae: 4.6954 - val_loss: 4.1033 - val_mae: 4.5795\n",
      "Epoch 52/500\n",
      "31/31 [==============================] - 0s 5ms/step - loss: 4.0962 - mae: 4.5724 - val_loss: 4.4547 - val_mae: 4.9340\n",
      "Epoch 53/500\n",
      "31/31 [==============================] - 0s 5ms/step - loss: 4.0200 - mae: 4.4909 - val_loss: 4.7705 - val_mae: 5.2459\n",
      "Epoch 54/500\n",
      "31/31 [==============================] - 0s 5ms/step - loss: 4.3725 - mae: 4.8480 - val_loss: 4.2662 - val_mae: 4.7376\n",
      "Epoch 55/500\n",
      "31/31 [==============================] - 0s 5ms/step - loss: 3.9479 - mae: 4.4200 - val_loss: 4.0947 - val_mae: 4.5548\n",
      "Epoch 56/500\n",
      "31/31 [==============================] - 0s 5ms/step - loss: 4.1119 - mae: 4.5876 - val_loss: 4.3655 - val_mae: 4.8438\n",
      "Epoch 57/500\n",
      "31/31 [==============================] - 0s 5ms/step - loss: 4.0008 - mae: 4.4729 - val_loss: 3.8653 - val_mae: 4.3384\n",
      "Epoch 58/500\n",
      "31/31 [==============================] - 0s 4ms/step - loss: 3.8529 - mae: 4.3221 - val_loss: 3.8627 - val_mae: 4.3372\n",
      "Epoch 59/500\n",
      "31/31 [==============================] - 0s 5ms/step - loss: 3.9067 - mae: 4.3825 - val_loss: 4.3618 - val_mae: 4.8377\n",
      "Epoch 60/500\n",
      "31/31 [==============================] - 0s 5ms/step - loss: 3.8941 - mae: 4.3667 - val_loss: 4.2023 - val_mae: 4.6775\n",
      "Epoch 61/500\n",
      "31/31 [==============================] - 0s 5ms/step - loss: 4.0981 - mae: 4.5724 - val_loss: 3.8275 - val_mae: 4.3044\n",
      "Epoch 62/500\n",
      "31/31 [==============================] - 0s 5ms/step - loss: 3.9491 - mae: 4.4259 - val_loss: 3.7906 - val_mae: 4.2630\n",
      "Epoch 63/500\n"
     ]
    },
    {
     "name": "stdout",
     "output_type": "stream",
     "text": [
      "31/31 [==============================] - 0s 4ms/step - loss: 3.7155 - mae: 4.1912 - val_loss: 3.8626 - val_mae: 4.3250\n",
      "Epoch 64/500\n",
      "31/31 [==============================] - 0s 5ms/step - loss: 3.9909 - mae: 4.4653 - val_loss: 3.7609 - val_mae: 4.2336\n",
      "Epoch 65/500\n",
      "31/31 [==============================] - 0s 5ms/step - loss: 3.9740 - mae: 4.4475 - val_loss: 3.7564 - val_mae: 4.2311\n",
      "Epoch 66/500\n",
      "31/31 [==============================] - 0s 5ms/step - loss: 4.5108 - mae: 4.9846 - val_loss: 4.1394 - val_mae: 4.6136\n",
      "Epoch 67/500\n",
      "31/31 [==============================] - 0s 4ms/step - loss: 3.7933 - mae: 4.2654 - val_loss: 3.8060 - val_mae: 4.2839\n",
      "Epoch 68/500\n",
      "31/31 [==============================] - 0s 4ms/step - loss: 3.9350 - mae: 4.4097 - val_loss: 4.2507 - val_mae: 4.7254\n",
      "Epoch 69/500\n",
      "31/31 [==============================] - 0s 5ms/step - loss: 3.8383 - mae: 4.3123 - val_loss: 4.1429 - val_mae: 4.6236\n",
      "Epoch 70/500\n",
      "31/31 [==============================] - 0s 4ms/step - loss: 3.7235 - mae: 4.1966 - val_loss: 3.6849 - val_mae: 4.1587\n",
      "Epoch 71/500\n",
      "31/31 [==============================] - 0s 5ms/step - loss: 3.6922 - mae: 4.1677 - val_loss: 3.6855 - val_mae: 4.1558\n",
      "Epoch 72/500\n",
      "31/31 [==============================] - 0s 5ms/step - loss: 3.6824 - mae: 4.1557 - val_loss: 3.7132 - val_mae: 4.1889\n",
      "Epoch 73/500\n",
      "31/31 [==============================] - 0s 4ms/step - loss: 4.0699 - mae: 4.5503 - val_loss: 4.2078 - val_mae: 4.6835\n",
      "Epoch 74/500\n",
      "31/31 [==============================] - 0s 5ms/step - loss: 3.8828 - mae: 4.3535 - val_loss: 3.7383 - val_mae: 4.1994\n",
      "Epoch 75/500\n",
      "31/31 [==============================] - 0s 5ms/step - loss: 3.7589 - mae: 4.2278 - val_loss: 5.0112 - val_mae: 5.4963\n",
      "Epoch 76/500\n",
      "31/31 [==============================] - 0s 5ms/step - loss: 4.3421 - mae: 4.8167 - val_loss: 4.2098 - val_mae: 4.6866\n",
      "Epoch 77/500\n",
      "31/31 [==============================] - 0s 5ms/step - loss: 4.0527 - mae: 4.5269 - val_loss: 5.3159 - val_mae: 5.7958\n",
      "Epoch 78/500\n",
      "31/31 [==============================] - 0s 5ms/step - loss: 3.9122 - mae: 4.3846 - val_loss: 4.3563 - val_mae: 4.8344\n",
      "Epoch 79/500\n",
      "31/31 [==============================] - 0s 5ms/step - loss: 3.7851 - mae: 4.2603 - val_loss: 3.5803 - val_mae: 4.0561\n",
      "Epoch 80/500\n",
      "31/31 [==============================] - 0s 5ms/step - loss: 3.5915 - mae: 4.0595 - val_loss: 3.5800 - val_mae: 4.0524\n",
      "Epoch 81/500\n",
      "31/31 [==============================] - 0s 4ms/step - loss: 3.6976 - mae: 4.1734 - val_loss: 4.2125 - val_mae: 4.6861\n",
      "Epoch 82/500\n",
      "31/31 [==============================] - 0s 5ms/step - loss: 3.5987 - mae: 4.0632 - val_loss: 3.8727 - val_mae: 4.3468\n",
      "Epoch 83/500\n",
      "31/31 [==============================] - 0s 5ms/step - loss: 3.8738 - mae: 4.3532 - val_loss: 3.9802 - val_mae: 4.4553\n",
      "Epoch 84/500\n",
      "31/31 [==============================] - 0s 5ms/step - loss: 3.5524 - mae: 4.0201 - val_loss: 3.5299 - val_mae: 4.0061\n",
      "Epoch 85/500\n",
      "31/31 [==============================] - 0s 5ms/step - loss: 3.7484 - mae: 4.2266 - val_loss: 5.1463 - val_mae: 5.6276\n",
      "Epoch 86/500\n",
      "31/31 [==============================] - 0s 5ms/step - loss: 3.3031 - mae: 3.7741 - val_loss: 3.5961 - val_mae: 4.0696\n",
      "Epoch 87/500\n",
      "31/31 [==============================] - 0s 5ms/step - loss: 3.4480 - mae: 3.9193 - val_loss: 3.6762 - val_mae: 4.1505\n",
      "Epoch 88/500\n",
      "31/31 [==============================] - 0s 4ms/step - loss: 4.1031 - mae: 4.5816 - val_loss: 4.4342 - val_mae: 4.9112\n",
      "Epoch 89/500\n",
      "31/31 [==============================] - 0s 5ms/step - loss: 3.4556 - mae: 3.9261 - val_loss: 4.4411 - val_mae: 4.9181\n",
      "Epoch 90/500\n",
      "31/31 [==============================] - 0s 5ms/step - loss: 3.5012 - mae: 3.9734 - val_loss: 5.0109 - val_mae: 5.4922\n",
      "Epoch 91/500\n",
      "31/31 [==============================] - 0s 5ms/step - loss: 3.8541 - mae: 4.3255 - val_loss: 3.5930 - val_mae: 4.0493\n",
      "Epoch 92/500\n",
      "31/31 [==============================] - 0s 5ms/step - loss: 3.5823 - mae: 4.0560 - val_loss: 4.0340 - val_mae: 4.5068\n",
      "Epoch 93/500\n",
      "31/31 [==============================] - 0s 5ms/step - loss: 3.5326 - mae: 4.0049 - val_loss: 5.1457 - val_mae: 5.6280\n",
      "Epoch 94/500\n",
      "31/31 [==============================] - 0s 5ms/step - loss: 3.5024 - mae: 3.9779 - val_loss: 5.4377 - val_mae: 5.9172\n"
     ]
    },
    {
     "data": {
      "text/plain": [
       "<tensorflow.python.keras.callbacks.History at 0x26e90914eb0>"
      ]
     },
     "execution_count": 42,
     "metadata": {},
     "output_type": "execute_result"
    }
   ],
   "source": [
    "lin_model.fit(train_set, epochs=500, validation_data=valid_set, callbacks=[early_stopping])"
   ]
  },
  {
   "cell_type": "code",
   "execution_count": 46,
   "id": "native-pressing",
   "metadata": {},
   "outputs": [],
   "source": [
    "def model_forecast(model, series, window_size:int):\n",
    "    \"\"\"\n",
    "    Use a model to predict a small range into the future.\n",
    "    \"\"\"\n",
    "    ds = tf.data.Dataset.from_tensor_slices(series)\n",
    "    ds = ds.window(window_size, shift=1, drop_remainder=True)\n",
    "    ds = ds.flat_map(lambda w: w.batch(window_size))\n",
    "    ds = ds.batch(32).prefetch(1)\n",
    "    return model.predict(ds)"
   ]
  },
  {
   "cell_type": "code",
   "execution_count": 53,
   "id": "cooked-stylus",
   "metadata": {},
   "outputs": [
    {
     "data": {
      "text/plain": [
       "[<matplotlib.lines.Line2D at 0x26ef6f36160>]"
      ]
     },
     "execution_count": 53,
     "metadata": {},
     "output_type": "execute_result"
    },
    {
     "data": {
      "image/png": "[encoded data removed]",
      "text/plain": [
       "<Figure size 432x288 with 1 Axes>"
      ]
     },
     "metadata": {
      "needs_background": "light"
     },
     "output_type": "display_data"
    }
   ],
   "source": [
    "lin_forecast = model_forecast(lin_model, series[split_time - window_size:-1], window_size)[:, 0]\n",
    "plt.plot(time_valid, lin_forecast)\n",
    "plt.plot(time_valid, x_valid)"
   ]
  },
  {
   "cell_type": "code",
   "execution_count": 56,
   "id": "herbal-moderator",
   "metadata": {},
   "outputs": [],
   "source": [
    "mlp_model = tf.keras.models.Sequential([\n",
    "    tf.keras.layers.Dense(10, activation=tf.keras.activations.relu,\n",
    "                          input_shape=[window_size]),\n",
    "    tf.keras.layers.Dense(10, tf.keras.activations.relu),\n",
    "    tf.keras.layers.Dense(1)\n",
    "])\n",
    "mlp_model.compile(optimizer=optimizer,\n",
    "                 loss=tf.keras.losses.Huber(),\n",
    "                 metrics=[\"mae\"])\n",
    "early_stopping = tf.keras.callbacks.EarlyStopping(patience=10)"
   ]
  },
  {
   "cell_type": "code",
   "execution_count": 57,
   "id": "ignored-marketplace",
   "metadata": {},
   "outputs": [
    {
     "name": "stdout",
     "output_type": "stream",
     "text": [
      "Epoch 1/500\n",
      "31/31 [==============================] - 1s 8ms/step - loss: 101.5031 - mae: 102.0025 - val_loss: 73.2855 - val_mae: 73.7855\n",
      "Epoch 2/500\n",
      "31/31 [==============================] - 0s 5ms/step - loss: 18.2622 - mae: 18.7563 - val_loss: 8.3598 - val_mae: 8.8364\n",
      "Epoch 3/500\n",
      "31/31 [==============================] - 0s 5ms/step - loss: 10.0355 - mae: 10.5200 - val_loss: 8.9336 - val_mae: 9.4256\n",
      "Epoch 4/500\n",
      "31/31 [==============================] - 0s 5ms/step - loss: 8.6550 - mae: 9.1373 - val_loss: 7.4759 - val_mae: 7.9588\n",
      "Epoch 5/500\n",
      "31/31 [==============================] - 0s 5ms/step - loss: 8.4654 - mae: 8.9484 - val_loss: 8.3535 - val_mae: 8.8440\n",
      "Epoch 6/500\n",
      "31/31 [==============================] - 0s 5ms/step - loss: 8.2503 - mae: 8.7286 - val_loss: 7.0112 - val_mae: 7.4858\n",
      "Epoch 7/500\n",
      "31/31 [==============================] - 0s 5ms/step - loss: 7.2666 - mae: 7.7470 - val_loss: 6.8864 - val_mae: 7.3628\n",
      "Epoch 8/500\n",
      "31/31 [==============================] - 0s 5ms/step - loss: 7.2361 - mae: 7.7205 - val_loss: 6.9171 - val_mae: 7.3971\n",
      "Epoch 9/500\n",
      "31/31 [==============================] - 0s 5ms/step - loss: 7.5589 - mae: 8.0329 - val_loss: 7.2522 - val_mae: 7.7348\n",
      "Epoch 10/500\n",
      "31/31 [==============================] - 0s 5ms/step - loss: 6.8331 - mae: 7.3119 - val_loss: 7.7084 - val_mae: 8.1942\n",
      "Epoch 11/500\n",
      "31/31 [==============================] - 0s 5ms/step - loss: 6.6579 - mae: 7.1300 - val_loss: 6.2580 - val_mae: 6.7345\n",
      "Epoch 12/500\n",
      "31/31 [==============================] - 0s 5ms/step - loss: 6.4912 - mae: 6.9626 - val_loss: 6.0218 - val_mae: 6.4933\n",
      "Epoch 13/500\n",
      "31/31 [==============================] - 0s 5ms/step - loss: 6.3611 - mae: 6.8383 - val_loss: 6.2604 - val_mae: 6.7419\n",
      "Epoch 14/500\n",
      "31/31 [==============================] - 0s 5ms/step - loss: 5.9923 - mae: 6.4675 - val_loss: 7.2913 - val_mae: 7.7736\n",
      "Epoch 15/500\n",
      "31/31 [==============================] - 0s 5ms/step - loss: 5.8203 - mae: 6.2884 - val_loss: 6.9923 - val_mae: 7.4750\n",
      "Epoch 16/500\n",
      "31/31 [==============================] - 0s 5ms/step - loss: 5.7507 - mae: 6.2209 - val_loss: 5.3303 - val_mae: 5.8012\n",
      "Epoch 17/500\n",
      "31/31 [==============================] - 0s 4ms/step - loss: 5.6649 - mae: 6.1423 - val_loss: 5.3905 - val_mae: 5.8685\n",
      "Epoch 18/500\n",
      "31/31 [==============================] - 0s 5ms/step - loss: 5.5810 - mae: 6.0502 - val_loss: 5.3017 - val_mae: 5.7761\n",
      "Epoch 19/500\n",
      "31/31 [==============================] - 0s 5ms/step - loss: 5.5380 - mae: 6.0170 - val_loss: 5.0744 - val_mae: 5.5467\n",
      "Epoch 20/500\n",
      "31/31 [==============================] - 0s 5ms/step - loss: 5.7257 - mae: 6.1992 - val_loss: 5.3255 - val_mae: 5.7991\n",
      "Epoch 21/500\n",
      "31/31 [==============================] - 0s 5ms/step - loss: 5.1576 - mae: 5.6298 - val_loss: 4.8521 - val_mae: 5.3278\n",
      "Epoch 22/500\n",
      "31/31 [==============================] - 0s 4ms/step - loss: 5.3032 - mae: 5.7815 - val_loss: 4.8666 - val_mae: 5.3402\n",
      "Epoch 23/500\n",
      "31/31 [==============================] - 0s 5ms/step - loss: 5.5007 - mae: 5.9816 - val_loss: 4.7946 - val_mae: 5.2698\n",
      "Epoch 24/500\n",
      "31/31 [==============================] - 0s 5ms/step - loss: 4.5041 - mae: 4.9732 - val_loss: 4.6822 - val_mae: 5.1564\n",
      "Epoch 25/500\n",
      "31/31 [==============================] - 0s 5ms/step - loss: 5.1316 - mae: 5.6047 - val_loss: 4.6533 - val_mae: 5.1275\n",
      "Epoch 26/500\n",
      "31/31 [==============================] - 0s 5ms/step - loss: 5.1302 - mae: 5.6014 - val_loss: 5.1114 - val_mae: 5.5924\n",
      "Epoch 27/500\n",
      "31/31 [==============================] - 0s 5ms/step - loss: 4.7307 - mae: 5.2086 - val_loss: 4.5451 - val_mae: 5.0205\n",
      "Epoch 28/500\n",
      "31/31 [==============================] - 0s 5ms/step - loss: 4.9437 - mae: 5.4143 - val_loss: 4.5154 - val_mae: 4.9892\n",
      "Epoch 29/500\n",
      "31/31 [==============================] - 0s 5ms/step - loss: 5.1325 - mae: 5.6055 - val_loss: 4.8620 - val_mae: 5.3391\n",
      "Epoch 30/500\n",
      "31/31 [==============================] - 0s 5ms/step - loss: 4.8408 - mae: 5.3155 - val_loss: 4.9008 - val_mae: 5.3798\n",
      "Epoch 31/500\n",
      "31/31 [==============================] - 0s 5ms/step - loss: 4.8403 - mae: 5.3103 - val_loss: 4.3533 - val_mae: 4.8255\n",
      "Epoch 32/500\n",
      "31/31 [==============================] - 0s 4ms/step - loss: 4.7005 - mae: 5.1735 - val_loss: 4.7186 - val_mae: 5.1926\n",
      "Epoch 33/500\n",
      "31/31 [==============================] - 0s 5ms/step - loss: 4.5459 - mae: 5.0181 - val_loss: 4.5001 - val_mae: 4.9854\n",
      "Epoch 34/500\n",
      "31/31 [==============================] - 0s 4ms/step - loss: 4.5008 - mae: 4.9754 - val_loss: 4.2723 - val_mae: 4.7403\n",
      "Epoch 35/500\n",
      "31/31 [==============================] - 0s 5ms/step - loss: 4.5450 - mae: 5.0212 - val_loss: 4.3326 - val_mae: 4.8011\n",
      "Epoch 36/500\n",
      "31/31 [==============================] - 0s 5ms/step - loss: 4.6325 - mae: 5.1072 - val_loss: 4.3011 - val_mae: 4.7704\n",
      "Epoch 37/500\n",
      "31/31 [==============================] - 0s 5ms/step - loss: 4.5441 - mae: 5.0186 - val_loss: 4.7097 - val_mae: 5.1767\n",
      "Epoch 38/500\n",
      "31/31 [==============================] - 0s 5ms/step - loss: 4.6067 - mae: 5.0780 - val_loss: 4.1338 - val_mae: 4.6026\n",
      "Epoch 39/500\n",
      "31/31 [==============================] - 0s 5ms/step - loss: 4.4672 - mae: 4.9383 - val_loss: 4.3135 - val_mae: 4.7841\n",
      "Epoch 40/500\n",
      "31/31 [==============================] - 0s 5ms/step - loss: 4.3420 - mae: 4.8170 - val_loss: 4.3925 - val_mae: 4.8625\n",
      "Epoch 41/500\n",
      "31/31 [==============================] - 0s 5ms/step - loss: 4.5137 - mae: 4.9851 - val_loss: 4.2907 - val_mae: 4.7739\n",
      "Epoch 42/500\n",
      "31/31 [==============================] - 0s 5ms/step - loss: 4.4815 - mae: 4.9524 - val_loss: 3.9986 - val_mae: 4.4625\n",
      "Epoch 43/500\n",
      "31/31 [==============================] - 0s 5ms/step - loss: 4.6213 - mae: 5.0947 - val_loss: 4.4575 - val_mae: 4.9279\n",
      "Epoch 44/500\n",
      "31/31 [==============================] - 0s 5ms/step - loss: 4.2045 - mae: 4.6700 - val_loss: 4.4707 - val_mae: 4.9432\n",
      "Epoch 45/500\n",
      "31/31 [==============================] - 0s 5ms/step - loss: 4.0859 - mae: 4.5605 - val_loss: 4.2713 - val_mae: 4.7526\n",
      "Epoch 46/500\n",
      "31/31 [==============================] - 0s 5ms/step - loss: 4.4324 - mae: 4.9017 - val_loss: 4.0338 - val_mae: 4.5118\n",
      "Epoch 47/500\n",
      "31/31 [==============================] - 0s 4ms/step - loss: 4.2238 - mae: 4.6947 - val_loss: 4.8497 - val_mae: 5.3319\n",
      "Epoch 48/500\n",
      "31/31 [==============================] - 0s 5ms/step - loss: 4.3171 - mae: 4.7894 - val_loss: 4.6211 - val_mae: 5.1048\n",
      "Epoch 49/500\n",
      "31/31 [==============================] - 0s 5ms/step - loss: 4.1988 - mae: 4.6661 - val_loss: 4.5093 - val_mae: 4.9914\n",
      "Epoch 50/500\n",
      "31/31 [==============================] - 0s 5ms/step - loss: 4.4217 - mae: 4.8965 - val_loss: 3.8777 - val_mae: 4.3466\n",
      "Epoch 51/500\n",
      "31/31 [==============================] - 0s 5ms/step - loss: 4.2636 - mae: 4.7407 - val_loss: 3.7969 - val_mae: 4.2597\n",
      "Epoch 52/500\n",
      "31/31 [==============================] - 0s 5ms/step - loss: 4.3916 - mae: 4.8616 - val_loss: 5.2474 - val_mae: 5.7211\n",
      "Epoch 53/500\n",
      "31/31 [==============================] - 0s 5ms/step - loss: 3.8510 - mae: 4.3210 - val_loss: 3.8302 - val_mae: 4.3063\n",
      "Epoch 54/500\n",
      "31/31 [==============================] - 0s 5ms/step - loss: 3.9291 - mae: 4.4038 - val_loss: 4.4616 - val_mae: 4.9326\n",
      "Epoch 55/500\n",
      "31/31 [==============================] - 0s 4ms/step - loss: 3.9593 - mae: 4.4283 - val_loss: 5.1358 - val_mae: 5.6099\n",
      "Epoch 56/500\n",
      "31/31 [==============================] - 0s 5ms/step - loss: 4.1045 - mae: 4.5665 - val_loss: 4.0742 - val_mae: 4.5441\n",
      "Epoch 57/500\n",
      "31/31 [==============================] - 0s 5ms/step - loss: 3.9616 - mae: 4.4254 - val_loss: 5.1306 - val_mae: 5.6068\n",
      "Epoch 58/500\n",
      "31/31 [==============================] - 0s 5ms/step - loss: 4.0055 - mae: 4.4706 - val_loss: 3.9312 - val_mae: 4.3991\n",
      "Epoch 59/500\n",
      "31/31 [==============================] - 0s 5ms/step - loss: 3.9405 - mae: 4.4105 - val_loss: 4.1455 - val_mae: 4.6186\n",
      "Epoch 60/500\n",
      "31/31 [==============================] - 0s 5ms/step - loss: 4.1980 - mae: 4.6690 - val_loss: 4.6072 - val_mae: 5.0836\n",
      "Epoch 61/500\n",
      "31/31 [==============================] - 0s 5ms/step - loss: 3.7662 - mae: 4.2389 - val_loss: 3.8161 - val_mae: 4.2864\n"
     ]
    },
    {
     "data": {
      "text/plain": [
       "<tensorflow.python.keras.callbacks.History at 0x26ef6b6e880>"
      ]
     },
     "execution_count": 57,
     "metadata": {},
     "output_type": "execute_result"
    }
   ],
   "source": [
    "mlp_model.fit(train_set, epochs=500, validation_data=valid_set, callbacks=[early_stopping])"
   ]
  },
  {
   "cell_type": "code",
   "execution_count": 63,
   "id": "royal-stockholm",
   "metadata": {},
   "outputs": [
    {
     "data": {
      "text/plain": [
       "<matplotlib.legend.Legend at 0x27075bdcf10>"
      ]
     },
     "execution_count": 63,
     "metadata": {},
     "output_type": "execute_result"
    },
    {
     "data": {
      "image/png": "[encoded data removed]",
      "text/plain": [
       "<Figure size 432x288 with 1 Axes>"
      ]
     },
     "metadata": {
      "needs_background": "light"
     },
     "output_type": "display_data"
    }
   ],
   "source": [
    "mlp_forecast = model_forecast(mlp_model, series[split_time - window_size:-1], window_size)[:, 0]\n",
    "lin_forecast = model_forecast(lin_model, series[split_time - window_size:-1], window_size)[:, 0]\n",
    "plt.plot(time_valid, mlp_forecast, label=\"MLP\")\n",
    "plt.plot(time_valid, lin_forecast, label=\"Lin\")\n",
    "plt.plot(time_valid, x_valid)\n",
    "plt.legend()"
   ]
  },
  {
   "cell_type": "code",
   "execution_count": null,
   "id": "dominant-retail",
   "metadata": {},
   "outputs": [],
   "source": []
  }
 ],
 "metadata": {
  "kernelspec": {
   "display_name": "Python 3",
   "language": "python",
   "name": "python3"
  },
  "language_info": {
   "codemirror_mode": {
    "name": "ipython",
    "version": 3
   },
   "file_extension": ".py",
   "mimetype": "text/x-python",
   "name": "python",
   "nbconvert_exporter": "python",
   "pygments_lexer": "ipython3",
   "version": "3.8.8"
  }
 },
 "nbformat": 4,
 "nbformat_minor": 5
}
