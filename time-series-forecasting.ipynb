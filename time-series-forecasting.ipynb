{
 "cells": [
  {
   "cell_type": "markdown",
   "id": "distant-whale",
   "metadata": {},
   "source": [
    "# Time Series Forecasting\n",
    "Just get to grips with time series."
   ]
  },
  {
   "cell_type": "code",
   "execution_count": 7,
   "id": "checked-blackjack",
   "metadata": {},
   "outputs": [
    {
     "data": {
      "application/javascript": [
       "\n",
       "            setTimeout(function() {\n",
       "                var nbb_cell_id = 7;\n",
       "                var nbb_unformatted_code = \"%load_ext nb_black\";\n",
       "                var nbb_formatted_code = \"%load_ext nb_black\";\n",
       "                var nbb_cells = Jupyter.notebook.get_cells();\n",
       "                for (var i = 0; i < nbb_cells.length; ++i) {\n",
       "                    if (nbb_cells[i].input_prompt_number == nbb_cell_id) {\n",
       "                        if (nbb_cells[i].get_text() == nbb_unformatted_code) {\n",
       "                             nbb_cells[i].set_text(nbb_formatted_code);\n",
       "                        }\n",
       "                        break;\n",
       "                    }\n",
       "                }\n",
       "            }, 500);\n",
       "            "
      ],
      "text/plain": [
       "<IPython.core.display.Javascript object>"
      ]
     },
     "metadata": {},
     "output_type": "display_data"
    }
   ],
   "source": [
    "%load_ext nb_black"
   ]
  },
  {
   "cell_type": "code",
   "execution_count": 8,
   "id": "cloudy-lightning",
   "metadata": {},
   "outputs": [
    {
     "data": {
      "application/javascript": [
       "\n",
       "            setTimeout(function() {\n",
       "                var nbb_cell_id = 8;\n",
       "                var nbb_unformatted_code = \"import numpy as np\\nimport matplotlib.pyplot as plt\";\n",
       "                var nbb_formatted_code = \"import numpy as np\\nimport matplotlib.pyplot as plt\";\n",
       "                var nbb_cells = Jupyter.notebook.get_cells();\n",
       "                for (var i = 0; i < nbb_cells.length; ++i) {\n",
       "                    if (nbb_cells[i].input_prompt_number == nbb_cell_id) {\n",
       "                        if (nbb_cells[i].get_text() == nbb_unformatted_code) {\n",
       "                             nbb_cells[i].set_text(nbb_formatted_code);\n",
       "                        }\n",
       "                        break;\n",
       "                    }\n",
       "                }\n",
       "            }, 500);\n",
       "            "
      ],
      "text/plain": [
       "<IPython.core.display.Javascript object>"
      ]
     },
     "metadata": {},
     "output_type": "display_data"
    }
   ],
   "source": [
    "import numpy as np\n",
    "import matplotlib.pyplot as plt"
   ]
  },
  {
   "cell_type": "code",
   "execution_count": 9,
   "id": "artistic-check",
   "metadata": {},
   "outputs": [
    {
     "data": {
      "text/plain": [
       "[<matplotlib.lines.Line2D at 0x23ceb2fe940>]"
      ]
     },
     "execution_count": 9,
     "metadata": {},
     "output_type": "execute_result"
    },
    {
     "data": {
      "image/png": "[encoded data removed]",
      "text/plain": [
       "<Figure size 432x288 with 1 Axes>"
      ]
     },
     "metadata": {
      "needs_background": "light"
     },
     "output_type": "display_data"
    },
    {
     "data": {
      "application/javascript": [
       "\n",
       "            setTimeout(function() {\n",
       "                var nbb_cell_id = 9;\n",
       "                var nbb_unformatted_code = \"time = np.arange(4*365 + 1)\\nbaseline = 10\\nseries = baseline + 0.1 * time\\n\\nfig, ax = plt.subplots()\\nax.plot(time, series)\";\n",
       "                var nbb_formatted_code = \"time = np.arange(4 * 365 + 1)\\nbaseline = 10\\nseries = baseline + 0.1 * time\\n\\nfig, ax = plt.subplots()\\nax.plot(time, series)\";\n",
       "                var nbb_cells = Jupyter.notebook.get_cells();\n",
       "                for (var i = 0; i < nbb_cells.length; ++i) {\n",
       "                    if (nbb_cells[i].input_prompt_number == nbb_cell_id) {\n",
       "                        if (nbb_cells[i].get_text() == nbb_unformatted_code) {\n",
       "                             nbb_cells[i].set_text(nbb_formatted_code);\n",
       "                        }\n",
       "                        break;\n",
       "                    }\n",
       "                }\n",
       "            }, 500);\n",
       "            "
      ],
      "text/plain": [
       "<IPython.core.display.Javascript object>"
      ]
     },
     "metadata": {},
     "output_type": "display_data"
    }
   ],
   "source": [
    "time = np.arange(4*365 + 1)\n",
    "baseline = 10\n",
    "series = baseline + 0.1 * time\n",
    "\n",
    "fig, ax = plt.subplots()\n",
    "ax.plot(time, series)\n"
   ]
  },
  {
   "cell_type": "code",
   "execution_count": 15,
   "id": "hidden-underwear",
   "metadata": {},
   "outputs": [
    {
     "data": {
      "application/javascript": [
       "\n",
       "            setTimeout(function() {\n",
       "                var nbb_cell_id = 15;\n",
       "                var nbb_unformatted_code = \"def seasonal_pattern(season_time: np.array):\\n    \\\"\\\"\\\"\\n    This is arbitrary -- there could be multiple seasonal patterns.\\n    \\\"\\\"\\\"\\n    return np.where(\\n        season_time < 0.4, np.cos(season_time * 2 * np.pi), np.exp(-3 * season_time)\\n    )\\n\\n\\ndef seasonality(time: np.array, period: float, amplitude: float = 1, phase: float = 0):\\n    season_time = ((time + phase) % period) / period\\n    return amplitude * seasonal_pattern(season_time)\\n\\ndef white_noise(time: np.array, noise_level:float, seed:int=31415926):\\n    rng = np.random.default_rng(seed=seed)\\n    return rng.random(time.shape[0]) * noise_level\\n    \";\n",
       "                var nbb_formatted_code = \"def seasonal_pattern(season_time: np.array):\\n    \\\"\\\"\\\"\\n    This is arbitrary -- there could be multiple seasonal patterns.\\n    \\\"\\\"\\\"\\n    return np.where(\\n        season_time < 0.4, np.cos(season_time * 2 * np.pi), np.exp(-3 * season_time)\\n    )\\n\\n\\ndef seasonality(time: np.array, period: float, amplitude: float = 1, phase: float = 0):\\n    season_time = ((time + phase) % period) / period\\n    return amplitude * seasonal_pattern(season_time)\\n\\n\\ndef white_noise(time: np.array, noise_level: float, seed: int = 31415926):\\n    rng = np.random.default_rng(seed=seed)\\n    return rng.random(time.shape[0]) * noise_level\";\n",
       "                var nbb_cells = Jupyter.notebook.get_cells();\n",
       "                for (var i = 0; i < nbb_cells.length; ++i) {\n",
       "                    if (nbb_cells[i].input_prompt_number == nbb_cell_id) {\n",
       "                        if (nbb_cells[i].get_text() == nbb_unformatted_code) {\n",
       "                             nbb_cells[i].set_text(nbb_formatted_code);\n",
       "                        }\n",
       "                        break;\n",
       "                    }\n",
       "                }\n",
       "            }, 500);\n",
       "            "
      ],
      "text/plain": [
       "<IPython.core.display.Javascript object>"
      ]
     },
     "metadata": {},
     "output_type": "display_data"
    }
   ],
   "source": [
    "def seasonal_pattern(season_time: np.array):\n",
    "    \"\"\"\n",
    "    This is arbitrary -- there could be multiple seasonal patterns.\n",
    "    \"\"\"\n",
    "    return np.where(\n",
    "        season_time < 0.4, np.cos(season_time * 2 * np.pi), np.exp(-3 * season_time)\n",
    "    )\n",
    "\n",
    "\n",
    "def seasonality(time: np.array, period: float, amplitude: float = 1, phase: float = 0):\n",
    "    season_time = ((time + phase) % period) / period\n",
    "    return amplitude * seasonal_pattern(season_time)\n",
    "\n",
    "\n",
    "def white_noise(time: np.array, noise_level: float, seed: int = 31415926):\n",
    "    rng = np.random.default_rng(seed=seed)\n",
    "    return rng.random(time.shape[0]) * noise_level"
   ]
  },
  {
   "cell_type": "code",
   "execution_count": 16,
   "id": "downtown-salad",
   "metadata": {},
   "outputs": [
    {
     "data": {
      "text/plain": [
       "[<matplotlib.lines.Line2D at 0x23ceb523790>]"
      ]
     },
     "execution_count": 16,
     "metadata": {},
     "output_type": "execute_result"
    },
    {
     "data": {
      "image/png": "[encoded data removed]",
      "text/plain": [
       "<Figure size 432x288 with 1 Axes>"
      ]
     },
     "metadata": {
      "needs_background": "light"
     },
     "output_type": "display_data"
    },
    {
     "data": {
      "application/javascript": [
       "\n",
       "            setTimeout(function() {\n",
       "                var nbb_cell_id = 16;\n",
       "                var nbb_unformatted_code = \"fig, ax = plt.subplots()\\nax.plot(time, seasonality(time, period=365, amplitude=40) + white_noise(time, 10))\";\n",
       "                var nbb_formatted_code = \"fig, ax = plt.subplots()\\nax.plot(time, seasonality(time, period=365, amplitude=40) + white_noise(time, 10))\";\n",
       "                var nbb_cells = Jupyter.notebook.get_cells();\n",
       "                for (var i = 0; i < nbb_cells.length; ++i) {\n",
       "                    if (nbb_cells[i].input_prompt_number == nbb_cell_id) {\n",
       "                        if (nbb_cells[i].get_text() == nbb_unformatted_code) {\n",
       "                             nbb_cells[i].set_text(nbb_formatted_code);\n",
       "                        }\n",
       "                        break;\n",
       "                    }\n",
       "                }\n",
       "            }, 500);\n",
       "            "
      ],
      "text/plain": [
       "<IPython.core.display.Javascript object>"
      ]
     },
     "metadata": {},
     "output_type": "display_data"
    }
   ],
   "source": [
    "fig, ax = plt.subplots()\n",
    "ax.plot(time, seasonality(time, period=365, amplitude=40) + white_noise(time, 10))"
   ]
  },
  {
   "cell_type": "markdown",
   "id": "patent-lesson",
   "metadata": {},
   "source": [
    "## Naive Forecasting\n",
    "Let's do some traditional prediction methods. \n",
    "The naive forecast is that tomorrow will be the same as today.\n"
   ]
  },
  {
   "cell_type": "code",
   "execution_count": 22,
   "id": "anonymous-pastor",
   "metadata": {},
   "outputs": [
    {
     "data": {
      "application/javascript": [
       "\n",
       "            setTimeout(function() {\n",
       "                var nbb_cell_id = 22;\n",
       "                var nbb_unformatted_code = \"series = seasonality(time, period=365, amplitude=40) + white_noise(time, 10)\\nsplit_time = 1000\\n\\ntime_train = time[:split_time]\\nx_train = series[:split_time]\\n\\ntime_valid = time[split_time:]\\nx_valid = series[split_time:]\";\n",
       "                var nbb_formatted_code = \"series = seasonality(time, period=365, amplitude=40) + white_noise(time, 10)\\nsplit_time = 1000\\n\\ntime_train = time[:split_time]\\nx_train = series[:split_time]\\n\\ntime_valid = time[split_time:]\\nx_valid = series[split_time:]\";\n",
       "                var nbb_cells = Jupyter.notebook.get_cells();\n",
       "                for (var i = 0; i < nbb_cells.length; ++i) {\n",
       "                    if (nbb_cells[i].input_prompt_number == nbb_cell_id) {\n",
       "                        if (nbb_cells[i].get_text() == nbb_unformatted_code) {\n",
       "                             nbb_cells[i].set_text(nbb_formatted_code);\n",
       "                        }\n",
       "                        break;\n",
       "                    }\n",
       "                }\n",
       "            }, 500);\n",
       "            "
      ],
      "text/plain": [
       "<IPython.core.display.Javascript object>"
      ]
     },
     "metadata": {},
     "output_type": "display_data"
    }
   ],
   "source": [
    "series = seasonality(time, period=365, amplitude=40) + white_noise(time, 10)\n",
    "split_time = 1000\n",
    "\n",
    "time_train = time[:split_time]\n",
    "x_train = series[:split_time]\n",
    "\n",
    "time_valid = time[split_time:]\n",
    "x_valid = series[split_time:]"
   ]
  },
  {
   "cell_type": "code",
   "execution_count": 37,
   "id": "enhanced-glory",
   "metadata": {},
   "outputs": [
    {
     "data": {
      "text/plain": [
       "[<matplotlib.lines.Line2D at 0x23ce359bc40>]"
      ]
     },
     "execution_count": 37,
     "metadata": {},
     "output_type": "execute_result"
    },
    {
     "data": {
      "image/png": "[encoded data removed]",
      "text/plain": [
       "<Figure size 432x288 with 1 Axes>"
      ]
     },
     "metadata": {
      "needs_background": "light"
     },
     "output_type": "display_data"
    },
    {
     "data": {
      "application/javascript": [
       "\n",
       "            setTimeout(function() {\n",
       "                var nbb_cell_id = 37;\n",
       "                var nbb_unformatted_code = \"naive_forecast = series[split_time - 1 : -1]\\nplt.plot(time_valid, naive_forecast, label=\\\"Naive\\\")\\nplt.plot(time_valid, x_valid, label=\\\"True\\\")\";\n",
       "                var nbb_formatted_code = \"naive_forecast = series[split_time - 1 : -1]\\nplt.plot(time_valid, naive_forecast, label=\\\"Naive\\\")\\nplt.plot(time_valid, x_valid, label=\\\"True\\\")\";\n",
       "                var nbb_cells = Jupyter.notebook.get_cells();\n",
       "                for (var i = 0; i < nbb_cells.length; ++i) {\n",
       "                    if (nbb_cells[i].input_prompt_number == nbb_cell_id) {\n",
       "                        if (nbb_cells[i].get_text() == nbb_unformatted_code) {\n",
       "                             nbb_cells[i].set_text(nbb_formatted_code);\n",
       "                        }\n",
       "                        break;\n",
       "                    }\n",
       "                }\n",
       "            }, 500);\n",
       "            "
      ],
      "text/plain": [
       "<IPython.core.display.Javascript object>"
      ]
     },
     "metadata": {},
     "output_type": "display_data"
    }
   ],
   "source": [
    "naive_forecast = series[split_time - 1 : -1]\n",
    "plt.plot(time_valid, naive_forecast, label=\"Naive\")\n",
    "plt.plot(time_valid, x_valid, label=\"True\")"
   ]
  },
  {
   "cell_type": "markdown",
   "id": "banner-north",
   "metadata": {},
   "source": [
    "We commonly use the MSE, mean squared error, as a metric.\n",
    "We can also use the RMS error which is of the same scale as the values, but MAE or MSE also valid."
   ]
  },
  {
   "cell_type": "code",
   "execution_count": 25,
   "id": "detailed-details",
   "metadata": {},
   "outputs": [
    {
     "data": {
      "application/javascript": [
       "\n",
       "            setTimeout(function() {\n",
       "                var nbb_cell_id = 25;\n",
       "                var nbb_unformatted_code = \"import tensorflow as tf\";\n",
       "                var nbb_formatted_code = \"import tensorflow as tf\";\n",
       "                var nbb_cells = Jupyter.notebook.get_cells();\n",
       "                for (var i = 0; i < nbb_cells.length; ++i) {\n",
       "                    if (nbb_cells[i].input_prompt_number == nbb_cell_id) {\n",
       "                        if (nbb_cells[i].get_text() == nbb_unformatted_code) {\n",
       "                             nbb_cells[i].set_text(nbb_formatted_code);\n",
       "                        }\n",
       "                        break;\n",
       "                    }\n",
       "                }\n",
       "            }, 500);\n",
       "            "
      ],
      "text/plain": [
       "<IPython.core.display.Javascript object>"
      ]
     },
     "metadata": {},
     "output_type": "display_data"
    }
   ],
   "source": [
    "import tensorflow as tf"
   ]
  },
  {
   "cell_type": "code",
   "execution_count": 27,
   "id": "twenty-concentrate",
   "metadata": {},
   "outputs": [
    {
     "data": {
      "text/plain": [
       "3.55240788188095"
      ]
     },
     "execution_count": 27,
     "metadata": {},
     "output_type": "execute_result"
    },
    {
     "data": {
      "application/javascript": [
       "\n",
       "            setTimeout(function() {\n",
       "                var nbb_cell_id = 27;\n",
       "                var nbb_unformatted_code = \"tf.keras.metrics.mean_absolute_error(x_valid, naive_forecast).numpy()\";\n",
       "                var nbb_formatted_code = \"tf.keras.metrics.mean_absolute_error(x_valid, naive_forecast).numpy()\";\n",
       "                var nbb_cells = Jupyter.notebook.get_cells();\n",
       "                for (var i = 0; i < nbb_cells.length; ++i) {\n",
       "                    if (nbb_cells[i].input_prompt_number == nbb_cell_id) {\n",
       "                        if (nbb_cells[i].get_text() == nbb_unformatted_code) {\n",
       "                             nbb_cells[i].set_text(nbb_formatted_code);\n",
       "                        }\n",
       "                        break;\n",
       "                    }\n",
       "                }\n",
       "            }, 500);\n",
       "            "
      ],
      "text/plain": [
       "<IPython.core.display.Javascript object>"
      ]
     },
     "metadata": {},
     "output_type": "display_data"
    }
   ],
   "source": [
    "tf.keras.metrics.mean_absolute_error(x_valid, naive_forecast).numpy()"
   ]
  },
  {
   "cell_type": "code",
   "execution_count": 38,
   "id": "compressed-sewing",
   "metadata": {},
   "outputs": [
    {
     "data": {
      "text/plain": [
       "[<matplotlib.lines.Line2D at 0x23ce35e3df0>]"
      ]
     },
     "execution_count": 38,
     "metadata": {},
     "output_type": "execute_result"
    },
    {
     "data": {
      "image/png": "[encoded data removed]",
      "text/plain": [
       "<Figure size 432x288 with 1 Axes>"
      ]
     },
     "metadata": {
      "needs_background": "light"
     },
     "output_type": "display_data"
    },
    {
     "data": {
      "application/javascript": [
       "\n",
       "            setTimeout(function() {\n",
       "                var nbb_cell_id = 38;\n",
       "                var nbb_unformatted_code = \"def moving_average_forecast(series, window_size):\\n    \\\"\\\"\\\"\\n  Forecasts the mean of the last few values.\\n     If window_size=1, then this is equivalent to naive forecast\\n     This implementation is *much* faster than the previous one\\n     \\\"\\\"\\\"\\n    mov = np.cumsum(series)\\n    mov[window_size:] = mov[window_size:] - mov[:-window_size]\\n    return mov[window_size - 1:-1] / window_size\\nplt.plot(time_valid[5:-5], moving_average_forecast(x_valid, 10))\\nplt.plot(time_valid, x_valid)\";\n",
       "                var nbb_formatted_code = \"def moving_average_forecast(series, window_size):\\n    \\\"\\\"\\\"\\n    Forecasts the mean of the last few values.\\n       If window_size=1, then this is equivalent to naive forecast\\n       This implementation is *much* faster than the previous one\\n    \\\"\\\"\\\"\\n    mov = np.cumsum(series)\\n    mov[window_size:] = mov[window_size:] - mov[:-window_size]\\n    return mov[window_size - 1 : -1] / window_size\\n\\n\\nplt.plot(time_valid[5:-5], moving_average_forecast(x_valid, 10))\\nplt.plot(time_valid, x_valid)\";\n",
       "                var nbb_cells = Jupyter.notebook.get_cells();\n",
       "                for (var i = 0; i < nbb_cells.length; ++i) {\n",
       "                    if (nbb_cells[i].input_prompt_number == nbb_cell_id) {\n",
       "                        if (nbb_cells[i].get_text() == nbb_unformatted_code) {\n",
       "                             nbb_cells[i].set_text(nbb_formatted_code);\n",
       "                        }\n",
       "                        break;\n",
       "                    }\n",
       "                }\n",
       "            }, 500);\n",
       "            "
      ],
      "text/plain": [
       "<IPython.core.display.Javascript object>"
      ]
     },
     "metadata": {},
     "output_type": "display_data"
    }
   ],
   "source": [
    "def moving_average_forecast(series, window_size):\n",
    "    \"\"\"\n",
    "  Forecasts the mean of the last few values.\n",
    "     If window_size=1, then this is equivalent to naive forecast\n",
    "     This implementation is *much* faster than the previous one\n",
    "     \"\"\"\n",
    "    mov = np.cumsum(series)\n",
    "    mov[window_size:] = mov[window_size:] - mov[:-window_size]\n",
    "    return mov[window_size - 1:-1] / window_size\n",
    "plt.plot(time_valid[5:-5], moving_average_forecast(x_valid, 10))\n",
    "plt.plot(time_valid, x_valid)\n"
   ]
  },
  {
   "cell_type": "code",
   "execution_count": 39,
   "id": "eleven-yugoslavia",
   "metadata": {},
   "outputs": [
    {
     "data": {
      "text/plain": [
       "2.728117470633646"
      ]
     },
     "execution_count": 39,
     "metadata": {},
     "output_type": "execute_result"
    },
    {
     "data": {
      "application/javascript": [
       "\n",
       "            setTimeout(function() {\n",
       "                var nbb_cell_id = 39;\n",
       "                var nbb_unformatted_code = \"tf.keras.metrics.mean_absolute_error(\\n    x_valid[5:-5], moving_average_forecast(x_valid, 10)\\n).numpy()\";\n",
       "                var nbb_formatted_code = \"tf.keras.metrics.mean_absolute_error(\\n    x_valid[5:-5], moving_average_forecast(x_valid, 10)\\n).numpy()\";\n",
       "                var nbb_cells = Jupyter.notebook.get_cells();\n",
       "                for (var i = 0; i < nbb_cells.length; ++i) {\n",
       "                    if (nbb_cells[i].input_prompt_number == nbb_cell_id) {\n",
       "                        if (nbb_cells[i].get_text() == nbb_unformatted_code) {\n",
       "                             nbb_cells[i].set_text(nbb_formatted_code);\n",
       "                        }\n",
       "                        break;\n",
       "                    }\n",
       "                }\n",
       "            }, 500);\n",
       "            "
      ],
      "text/plain": [
       "<IPython.core.display.Javascript object>"
      ]
     },
     "metadata": {},
     "output_type": "display_data"
    }
   ],
   "source": [
    "tf.keras.metrics.mean_absolute_error(\n",
    "    x_valid[5:-5], moving_average_forecast(x_valid, 10)\n",
    ").numpy()"
   ]
  },
  {
   "cell_type": "markdown",
   "id": "prime-draft",
   "metadata": {},
   "source": [
    "Moving averages don't copy well with seasonality, so instead we should use a difference series."
   ]
  },
  {
   "cell_type": "code",
   "execution_count": 46,
   "id": "valuable-nigeria",
   "metadata": {},
   "outputs": [
    {
     "data": {
      "application/javascript": [
       "\n",
       "            setTimeout(function() {\n",
       "                var nbb_cell_id = 46;\n",
       "                var nbb_unformatted_code = \"offset=365\\ndiff_series = series[offset:] - series[:-offset]\\ndiff_mov_avg = moving_average_forecast(diff_series, 50)[split_time - offset - 50 :]\";\n",
       "                var nbb_formatted_code = \"offset = 365\\ndiff_series = series[offset:] - series[:-offset]\\ndiff_mov_avg = moving_average_forecast(diff_series, 50)[split_time - offset - 50 :]\";\n",
       "                var nbb_cells = Jupyter.notebook.get_cells();\n",
       "                for (var i = 0; i < nbb_cells.length; ++i) {\n",
       "                    if (nbb_cells[i].input_prompt_number == nbb_cell_id) {\n",
       "                        if (nbb_cells[i].get_text() == nbb_unformatted_code) {\n",
       "                             nbb_cells[i].set_text(nbb_formatted_code);\n",
       "                        }\n",
       "                        break;\n",
       "                    }\n",
       "                }\n",
       "            }, 500);\n",
       "            "
      ],
      "text/plain": [
       "<IPython.core.display.Javascript object>"
      ]
     },
     "metadata": {},
     "output_type": "display_data"
    }
   ],
   "source": [
    "offset = 365\n",
    "diff_series = series[offset:] - series[:-offset]\n",
    "diff_mov_avg = moving_average_forecast(diff_series, 50)[split_time - offset - 50 :]"
   ]
  },
  {
   "cell_type": "code",
   "execution_count": null,
   "id": "traditional-carbon",
   "metadata": {},
   "outputs": [],
   "source": []
  },
  {
   "cell_type": "code",
   "execution_count": null,
   "id": "afraid-louis",
   "metadata": {},
   "outputs": [],
   "source": []
  },
  {
   "cell_type": "code",
   "execution_count": 47,
   "id": "recent-scene",
   "metadata": {},
   "outputs": [
    {
     "data": {
      "text/plain": [
       "[<matplotlib.lines.Line2D at 0x23ce3764a00>]"
      ]
     },
     "execution_count": 47,
     "metadata": {},
     "output_type": "execute_result"
    },
    {
     "data": {
      "image/png": "[encoded data removed]",
      "text/plain": [
       "<Figure size 432x288 with 1 Axes>"
      ]
     },
     "metadata": {
      "needs_background": "light"
     },
     "output_type": "display_data"
    },
    {
     "data": {
      "application/javascript": [
       "\n",
       "            setTimeout(function() {\n",
       "                var nbb_cell_id = 47;\n",
       "                var nbb_unformatted_code = \"averaged_past = moving_average_forecast(\\n    series[split_time - offset - 5 : -(offset - 5 - 1)], 11\\n)\\n\\nplt.plot(time_valid, diff_mov_avg + averaged_past)\\nplt.plot(time_valid, x_valid)\";\n",
       "                var nbb_formatted_code = \"averaged_past = moving_average_forecast(\\n    series[split_time - offset - 5 : -(offset - 5 - 1)], 11\\n)\\n\\nplt.plot(time_valid, diff_mov_avg + averaged_past)\\nplt.plot(time_valid, x_valid)\";\n",
       "                var nbb_cells = Jupyter.notebook.get_cells();\n",
       "                for (var i = 0; i < nbb_cells.length; ++i) {\n",
       "                    if (nbb_cells[i].input_prompt_number == nbb_cell_id) {\n",
       "                        if (nbb_cells[i].get_text() == nbb_unformatted_code) {\n",
       "                             nbb_cells[i].set_text(nbb_formatted_code);\n",
       "                        }\n",
       "                        break;\n",
       "                    }\n",
       "                }\n",
       "            }, 500);\n",
       "            "
      ],
      "text/plain": [
       "<IPython.core.display.Javascript object>"
      ]
     },
     "metadata": {},
     "output_type": "display_data"
    }
   ],
   "source": [
    "averaged_past = moving_average_forecast(\n",
    "    series[split_time - offset - 5 : -(offset - 5 - 1)], 11\n",
    ")\n",
    "\n",
    "plt.plot(time_valid, diff_mov_avg + averaged_past)\n",
    "plt.plot(time_valid, x_valid)"
   ]
  },
  {
   "cell_type": "code",
   "execution_count": 50,
   "id": "working-dispute",
   "metadata": {},
   "outputs": [
    {
     "data": {
      "text/plain": [
       "3.1579736906257234"
      ]
     },
     "execution_count": 50,
     "metadata": {},
     "output_type": "execute_result"
    },
    {
     "data": {
      "application/javascript": [
       "\n",
       "            setTimeout(function() {\n",
       "                var nbb_cell_id = 50;\n",
       "                var nbb_unformatted_code = \"tf.keras.metrics.mean_absolute_error(x_valid, diff_mov_avg + averaged_past).numpy()\";\n",
       "                var nbb_formatted_code = \"tf.keras.metrics.mean_absolute_error(x_valid, diff_mov_avg + averaged_past).numpy()\";\n",
       "                var nbb_cells = Jupyter.notebook.get_cells();\n",
       "                for (var i = 0; i < nbb_cells.length; ++i) {\n",
       "                    if (nbb_cells[i].input_prompt_number == nbb_cell_id) {\n",
       "                        if (nbb_cells[i].get_text() == nbb_unformatted_code) {\n",
       "                             nbb_cells[i].set_text(nbb_formatted_code);\n",
       "                        }\n",
       "                        break;\n",
       "                    }\n",
       "                }\n",
       "            }, 500);\n",
       "            "
      ],
      "text/plain": [
       "<IPython.core.display.Javascript object>"
      ]
     },
     "metadata": {},
     "output_type": "display_data"
    }
   ],
   "source": [
    "tf.keras.metrics.mean_absolute_error(x_valid, diff_mov_avg + averaged_past).numpy()"
   ]
  },
  {
   "cell_type": "code",
   "execution_count": null,
   "id": "bacterial-sydney",
   "metadata": {},
   "outputs": [],
   "source": []
  }
 ],
 "metadata": {
  "kernelspec": {
   "display_name": "Python 3",
   "language": "python",
   "name": "python3"
  },
  "language_info": {
   "codemirror_mode": {
    "name": "ipython",
    "version": 3
   },
   "file_extension": ".py",
   "mimetype": "text/x-python",
   "name": "python",
   "nbconvert_exporter": "python",
   "pygments_lexer": "ipython3",
   "version": "3.8.8"
  }
 },
 "nbformat": 4,
 "nbformat_minor": 5
}
