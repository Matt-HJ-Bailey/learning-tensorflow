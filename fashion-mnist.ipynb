{
 "cells": [
  {
   "cell_type": "code",
   "execution_count": 1,
   "id": "relative-sydney",
   "metadata": {},
   "outputs": [
    {
     "data": {
      "application/javascript": [
       "\n",
       "            setTimeout(function() {\n",
       "                var nbb_cell_id = 1;\n",
       "                var nbb_unformatted_code = \"%load_ext nb_black\";\n",
       "                var nbb_formatted_code = \"%load_ext nb_black\";\n",
       "                var nbb_cells = Jupyter.notebook.get_cells();\n",
       "                for (var i = 0; i < nbb_cells.length; ++i) {\n",
       "                    if (nbb_cells[i].input_prompt_number == nbb_cell_id) {\n",
       "                        if (nbb_cells[i].get_text() == nbb_unformatted_code) {\n",
       "                             nbb_cells[i].set_text(nbb_formatted_code);\n",
       "                        }\n",
       "                        break;\n",
       "                    }\n",
       "                }\n",
       "            }, 500);\n",
       "            "
      ],
      "text/plain": [
       "<IPython.core.display.Javascript object>"
      ]
     },
     "metadata": {},
     "output_type": "display_data"
    }
   ],
   "source": [
    "%load_ext nb_black"
   ]
  },
  {
   "cell_type": "code",
   "execution_count": 2,
   "id": "southern-growth",
   "metadata": {},
   "outputs": [
    {
     "data": {
      "application/javascript": [
       "\n",
       "            setTimeout(function() {\n",
       "                var nbb_cell_id = 2;\n",
       "                var nbb_unformatted_code = \"import tensorflow as tf\";\n",
       "                var nbb_formatted_code = \"import tensorflow as tf\";\n",
       "                var nbb_cells = Jupyter.notebook.get_cells();\n",
       "                for (var i = 0; i < nbb_cells.length; ++i) {\n",
       "                    if (nbb_cells[i].input_prompt_number == nbb_cell_id) {\n",
       "                        if (nbb_cells[i].get_text() == nbb_unformatted_code) {\n",
       "                             nbb_cells[i].set_text(nbb_formatted_code);\n",
       "                        }\n",
       "                        break;\n",
       "                    }\n",
       "                }\n",
       "            }, 500);\n",
       "            "
      ],
      "text/plain": [
       "<IPython.core.display.Javascript object>"
      ]
     },
     "metadata": {},
     "output_type": "display_data"
    }
   ],
   "source": [
    "import tensorflow as tf"
   ]
  },
  {
   "cell_type": "code",
   "execution_count": 3,
   "id": "distinct-cricket",
   "metadata": {},
   "outputs": [
    {
     "data": {
      "application/javascript": [
       "\n",
       "            setTimeout(function() {\n",
       "                var nbb_cell_id = 3;\n",
       "                var nbb_unformatted_code = \"import tensorflow_datasets as tfds\";\n",
       "                var nbb_formatted_code = \"import tensorflow_datasets as tfds\";\n",
       "                var nbb_cells = Jupyter.notebook.get_cells();\n",
       "                for (var i = 0; i < nbb_cells.length; ++i) {\n",
       "                    if (nbb_cells[i].input_prompt_number == nbb_cell_id) {\n",
       "                        if (nbb_cells[i].get_text() == nbb_unformatted_code) {\n",
       "                             nbb_cells[i].set_text(nbb_formatted_code);\n",
       "                        }\n",
       "                        break;\n",
       "                    }\n",
       "                }\n",
       "            }, 500);\n",
       "            "
      ],
      "text/plain": [
       "<IPython.core.display.Javascript object>"
      ]
     },
     "metadata": {},
     "output_type": "display_data"
    }
   ],
   "source": [
    "import tensorflow_datasets as tfds"
   ]
  },
  {
   "cell_type": "code",
   "execution_count": 4,
   "id": "about-complexity",
   "metadata": {},
   "outputs": [
    {
     "data": {
      "application/javascript": [
       "\n",
       "            setTimeout(function() {\n",
       "                var nbb_cell_id = 4;\n",
       "                var nbb_unformatted_code = \"tfds.disable_progress_bar()\";\n",
       "                var nbb_formatted_code = \"tfds.disable_progress_bar()\";\n",
       "                var nbb_cells = Jupyter.notebook.get_cells();\n",
       "                for (var i = 0; i < nbb_cells.length; ++i) {\n",
       "                    if (nbb_cells[i].input_prompt_number == nbb_cell_id) {\n",
       "                        if (nbb_cells[i].get_text() == nbb_unformatted_code) {\n",
       "                             nbb_cells[i].set_text(nbb_formatted_code);\n",
       "                        }\n",
       "                        break;\n",
       "                    }\n",
       "                }\n",
       "            }, 500);\n",
       "            "
      ],
      "text/plain": [
       "<IPython.core.display.Javascript object>"
      ]
     },
     "metadata": {},
     "output_type": "display_data"
    }
   ],
   "source": [
    "tfds.disable_progress_bar()"
   ]
  },
  {
   "cell_type": "code",
   "execution_count": 5,
   "id": "moving-dress",
   "metadata": {},
   "outputs": [
    {
     "data": {
      "application/javascript": [
       "\n",
       "            setTimeout(function() {\n",
       "                var nbb_cell_id = 5;\n",
       "                var nbb_unformatted_code = \"import math\\nimport numpy as np\\nimport matplotlib.pyplot as plt\\nimport logging\\nlogger = tf.get_logger()\\nlogger.setLevel(logging.ERROR)\";\n",
       "                var nbb_formatted_code = \"import math\\nimport numpy as np\\nimport matplotlib.pyplot as plt\\nimport logging\\n\\nlogger = tf.get_logger()\\nlogger.setLevel(logging.ERROR)\";\n",
       "                var nbb_cells = Jupyter.notebook.get_cells();\n",
       "                for (var i = 0; i < nbb_cells.length; ++i) {\n",
       "                    if (nbb_cells[i].input_prompt_number == nbb_cell_id) {\n",
       "                        if (nbb_cells[i].get_text() == nbb_unformatted_code) {\n",
       "                             nbb_cells[i].set_text(nbb_formatted_code);\n",
       "                        }\n",
       "                        break;\n",
       "                    }\n",
       "                }\n",
       "            }, 500);\n",
       "            "
      ],
      "text/plain": [
       "<IPython.core.display.Javascript object>"
      ]
     },
     "metadata": {},
     "output_type": "display_data"
    }
   ],
   "source": [
    "import math\n",
    "import numpy as np\n",
    "import matplotlib.pyplot as plt\n",
    "import logging\n",
    "\n",
    "logger = tf.get_logger()\n",
    "logger.setLevel(logging.ERROR)"
   ]
  },
  {
   "cell_type": "code",
   "execution_count": 6,
   "id": "adjacent-valuable",
   "metadata": {},
   "outputs": [
    {
     "data": {
      "application/javascript": [
       "\n",
       "            setTimeout(function() {\n",
       "                var nbb_cell_id = 6;\n",
       "                var nbb_unformatted_code = \"dataset, metadata = tfds.load(\\\"fashion_mnist\\\", as_supervised=True, with_info=True)\\ntrain_dataset, test_data =dataset[\\\"train\\\"], dataset[\\\"test\\\"]\";\n",
       "                var nbb_formatted_code = \"dataset, metadata = tfds.load(\\\"fashion_mnist\\\", as_supervised=True, with_info=True)\\ntrain_dataset, test_data = dataset[\\\"train\\\"], dataset[\\\"test\\\"]\";\n",
       "                var nbb_cells = Jupyter.notebook.get_cells();\n",
       "                for (var i = 0; i < nbb_cells.length; ++i) {\n",
       "                    if (nbb_cells[i].input_prompt_number == nbb_cell_id) {\n",
       "                        if (nbb_cells[i].get_text() == nbb_unformatted_code) {\n",
       "                             nbb_cells[i].set_text(nbb_formatted_code);\n",
       "                        }\n",
       "                        break;\n",
       "                    }\n",
       "                }\n",
       "            }, 500);\n",
       "            "
      ],
      "text/plain": [
       "<IPython.core.display.Javascript object>"
      ]
     },
     "metadata": {},
     "output_type": "display_data"
    }
   ],
   "source": []
  },
  {
   "cell_type": "code",
   "execution_count": 8,
   "id": "verbal-chester",
   "metadata": {},
   "outputs": [
    {
     "data": {
      "application/javascript": [
       "\n",
       "            setTimeout(function() {\n",
       "                var nbb_cell_id = 8;\n",
       "                var nbb_unformatted_code = \"class_names = metadata.features[\\\"label\\\"].names\";\n",
       "                var nbb_formatted_code = \"class_names = metadata.features[\\\"label\\\"].names\";\n",
       "                var nbb_cells = Jupyter.notebook.get_cells();\n",
       "                for (var i = 0; i < nbb_cells.length; ++i) {\n",
       "                    if (nbb_cells[i].input_prompt_number == nbb_cell_id) {\n",
       "                        if (nbb_cells[i].get_text() == nbb_unformatted_code) {\n",
       "                             nbb_cells[i].set_text(nbb_formatted_code);\n",
       "                        }\n",
       "                        break;\n",
       "                    }\n",
       "                }\n",
       "            }, 500);\n",
       "            "
      ],
      "text/plain": [
       "<IPython.core.display.Javascript object>"
      ]
     },
     "metadata": {},
     "output_type": "display_data"
    }
   ],
   "source": []
  },
  {
   "cell_type": "code",
   "execution_count": 9,
   "id": "brilliant-saint",
   "metadata": {},
   "outputs": [
    {
     "data": {
      "application/javascript": [
       "\n",
       "            setTimeout(function() {\n",
       "                var nbb_cell_id = 9;\n",
       "                var nbb_unformatted_code = \"def normalise(images, labels):\\n    \\\"\\\"\\\"\\n    Normalise the pixel values of a series of images to be in the [0, 1) range.\\n    \\\"\\\"\\\"\\n    images = tf.cast(images, tf.float32)\\n    images /= 255\\n    return images, labels\";\n",
       "                var nbb_formatted_code = \"def normalise(images, labels):\\n    \\\"\\\"\\\"\\n    Normalise the pixel values of a series of images to be in the [0, 1) range.\\n    \\\"\\\"\\\"\\n    images = tf.cast(images, tf.float32)\\n    images /= 255\\n    return images, labels\";\n",
       "                var nbb_cells = Jupyter.notebook.get_cells();\n",
       "                for (var i = 0; i < nbb_cells.length; ++i) {\n",
       "                    if (nbb_cells[i].input_prompt_number == nbb_cell_id) {\n",
       "                        if (nbb_cells[i].get_text() == nbb_unformatted_code) {\n",
       "                             nbb_cells[i].set_text(nbb_formatted_code);\n",
       "                        }\n",
       "                        break;\n",
       "                    }\n",
       "                }\n",
       "            }, 500);\n",
       "            "
      ],
      "text/plain": [
       "<IPython.core.display.Javascript object>"
      ]
     },
     "metadata": {},
     "output_type": "display_data"
    }
   ],
   "source": [
    "def normalise(images, labels):\n",
    "    \"\"\"\n",
    "    Normalise the pixel values of a series of images to be in the [0, 1) range.\n",
    "    \"\"\"\n",
    "    images = tf.cast(images, tf.float32)\n",
    "    images /= 255\n",
    "    return images, labels"
   ]
  },
  {
   "cell_type": "code",
   "execution_count": 11,
   "id": "aggressive-layer",
   "metadata": {},
   "outputs": [
    {
     "data": {
      "application/javascript": [
       "\n",
       "            setTimeout(function() {\n",
       "                var nbb_cell_id = 11;\n",
       "                var nbb_unformatted_code = \"tdataset, metadata = tfds.load(\\\"fashion_mnist\\\", as_supervised=True, with_info=True)\\nclass_names = metadata.features[\\\"label\\\"].names\\ntrain_dataset, test_dataset = dataset[\\\"train\\\"], dataset[\\\"test\\\"]\\ntrain_dataset = train_dataset.map(normalise).cache()\\ntest_dataset = test_dataset.map(normalise).cache()\";\n",
       "                var nbb_formatted_code = \"tdataset, metadata = tfds.load(\\\"fashion_mnist\\\", as_supervised=True, with_info=True)\\nclass_names = metadata.features[\\\"label\\\"].names\\ntrain_dataset, test_dataset = dataset[\\\"train\\\"], dataset[\\\"test\\\"]\\ntrain_dataset = train_dataset.map(normalise).cache()\\ntest_dataset = test_dataset.map(normalise).cache()\";\n",
       "                var nbb_cells = Jupyter.notebook.get_cells();\n",
       "                for (var i = 0; i < nbb_cells.length; ++i) {\n",
       "                    if (nbb_cells[i].input_prompt_number == nbb_cell_id) {\n",
       "                        if (nbb_cells[i].get_text() == nbb_unformatted_code) {\n",
       "                             nbb_cells[i].set_text(nbb_formatted_code);\n",
       "                        }\n",
       "                        break;\n",
       "                    }\n",
       "                }\n",
       "            }, 500);\n",
       "            "
      ],
      "text/plain": [
       "<IPython.core.display.Javascript object>"
      ]
     },
     "metadata": {},
     "output_type": "display_data"
    }
   ],
   "source": [
    "tdataset, metadata = tfds.load(\"fashion_mnist\", as_supervised=True, with_info=True)\n",
    "class_names = metadata.features[\"label\"].names\n",
    "train_dataset, test_dataset = dataset[\"train\"], dataset[\"test\"]\n",
    "train_dataset = train_dataset.map(normalise).cache()\n",
    "test_dataset = test_dataset.map(normalise).cache()"
   ]
  },
  {
   "cell_type": "markdown",
   "id": "scientific-avatar",
   "metadata": {},
   "source": [
    "View a selection of pieces of clothing"
   ]
  },
  {
   "cell_type": "code",
   "execution_count": 12,
   "id": "affecting-philip",
   "metadata": {},
   "outputs": [
    {
     "data": {
      "image/png": "[encoded data removed]",
      "text/plain": [
       "<Figure size 720x720 with 25 Axes>"
      ]
     },
     "metadata": {
      "needs_background": "light"
     },
     "output_type": "display_data"
    },
    {
     "data": {
      "application/javascript": [
       "\n",
       "            setTimeout(function() {\n",
       "                var nbb_cell_id = 12;\n",
       "                var nbb_unformatted_code = \"plt.figure(figsize=(10, 10))\\nfor i, (image, label) in enumerate(test_dataset.take(25)):\\n    image = image.numpy().reshape((28, 28))\\n    plt.subplot(5, 5, i+1)\\n    plt.axis(\\\"off\\\")\\n    plt.grid(False)\\n    plt.imshow(image, cmap=plt.cm.binary)\\n    plt.xlabel(class_names[label])\";\n",
       "                var nbb_formatted_code = \"plt.figure(figsize=(10, 10))\\nfor i, (image, label) in enumerate(test_dataset.take(25)):\\n    image = image.numpy().reshape((28, 28))\\n    plt.subplot(5, 5, i + 1)\\n    plt.axis(\\\"off\\\")\\n    plt.grid(False)\\n    plt.imshow(image, cmap=plt.cm.binary)\\n    plt.xlabel(class_names[label])\";\n",
       "                var nbb_cells = Jupyter.notebook.get_cells();\n",
       "                for (var i = 0; i < nbb_cells.length; ++i) {\n",
       "                    if (nbb_cells[i].input_prompt_number == nbb_cell_id) {\n",
       "                        if (nbb_cells[i].get_text() == nbb_unformatted_code) {\n",
       "                             nbb_cells[i].set_text(nbb_formatted_code);\n",
       "                        }\n",
       "                        break;\n",
       "                    }\n",
       "                }\n",
       "            }, 500);\n",
       "            "
      ],
      "text/plain": [
       "<IPython.core.display.Javascript object>"
      ]
     },
     "metadata": {},
     "output_type": "display_data"
    }
   ],
   "source": [
    "plt.figure(figsize=(10, 10))\n",
    "for i, (image, label) in enumerate(test_dataset.take(25)):\n",
    "    image = image.numpy().reshape((28, 28))\n",
    "    plt.subplot(5, 5, i + 1)\n",
    "    plt.axis(\"off\")\n",
    "    plt.grid(False)\n",
    "    plt.imshow(image, cmap=plt.cm.binary)\n",
    "    plt.xlabel(class_names[label])"
   ]
  },
  {
   "cell_type": "markdown",
   "id": "underlying-supplier",
   "metadata": {},
   "source": [
    "Now build the actual model.\n",
    "The tutoral mentions that softmax and sparecategoricalcrossentropy are a poor mix, so use the from_logits instead."
   ]
  },
  {
   "cell_type": "code",
   "execution_count": 15,
   "id": "close-ability",
   "metadata": {},
   "outputs": [
    {
     "data": {
      "application/javascript": [
       "\n",
       "            setTimeout(function() {\n",
       "                var nbb_cell_id = 15;\n",
       "                var nbb_unformatted_code = \"model = tf.keras.Sequential(\\n    [\\n        tf.keras.layers.Flatten(input_shape=(28, 28)),\\n        tf.keras.layers.Dense(128, activation=tf.nn.relu),\\n        tf.keras.layers.Dense(10),\\n    ]\\n)\\nmodel.compile(\\n    optimizer=\\\"adam\\\",\\n    loss=tf.keras.losses.SparseCategoricalCrossentropy(from_logits=True),\\n    metrics=[\\\"accuracy\\\"]\\n)\";\n",
       "                var nbb_formatted_code = \"model = tf.keras.Sequential(\\n    [\\n        tf.keras.layers.Flatten(input_shape=(28, 28)),\\n        tf.keras.layers.Dense(128, activation=tf.nn.relu),\\n        tf.keras.layers.Dense(10),\\n    ]\\n)\\nmodel.compile(\\n    optimizer=\\\"adam\\\",\\n    loss=tf.keras.losses.SparseCategoricalCrossentropy(from_logits=True),\\n    metrics=[\\\"accuracy\\\"],\\n)\";\n",
       "                var nbb_cells = Jupyter.notebook.get_cells();\n",
       "                for (var i = 0; i < nbb_cells.length; ++i) {\n",
       "                    if (nbb_cells[i].input_prompt_number == nbb_cell_id) {\n",
       "                        if (nbb_cells[i].get_text() == nbb_unformatted_code) {\n",
       "                             nbb_cells[i].set_text(nbb_formatted_code);\n",
       "                        }\n",
       "                        break;\n",
       "                    }\n",
       "                }\n",
       "            }, 500);\n",
       "            "
      ],
      "text/plain": [
       "<IPython.core.display.Javascript object>"
      ]
     },
     "metadata": {},
     "output_type": "display_data"
    }
   ],
   "source": [
    "model = tf.keras.Sequential(\n",
    "    [\n",
    "        tf.keras.layers.Flatten(input_shape=(28, 28)),\n",
    "        tf.keras.layers.Dense(128, activation=tf.nn.relu),\n",
    "        tf.keras.layers.Dense(10),\n",
    "    ]\n",
    ")\n",
    "model.compile(\n",
    "    optimizer=\"adam\",\n",
    "    loss=tf.keras.losses.SparseCategoricalCrossentropy(from_logits=True),\n",
    "    metrics=[\"accuracy\"],\n",
    ")"
   ]
  },
  {
   "cell_type": "code",
   "execution_count": 16,
   "id": "saved-porcelain",
   "metadata": {},
   "outputs": [
    {
     "data": {
      "application/javascript": [
       "\n",
       "            setTimeout(function() {\n",
       "                var nbb_cell_id = 16;\n",
       "                var nbb_unformatted_code = \"BATCH_SIZE = 32\\nnum_train_examples = metadata.splits['train'].num_examples\\nnum_test_examples = metadata.splits['test'].num_examples\\ntrain_dataset = train_dataset.cache().repeat().shuffle(num_train_examples).batch(BATCH_SIZE)\\ntest_dataset = test_dataset.cache().batch(BATCH_SIZE)\";\n",
       "                var nbb_formatted_code = \"BATCH_SIZE = 32\\nnum_train_examples = metadata.splits[\\\"train\\\"].num_examples\\nnum_test_examples = metadata.splits[\\\"test\\\"].num_examples\\ntrain_dataset = (\\n    train_dataset.cache().repeat().shuffle(num_train_examples).batch(BATCH_SIZE)\\n)\\ntest_dataset = test_dataset.cache().batch(BATCH_SIZE)\";\n",
       "                var nbb_cells = Jupyter.notebook.get_cells();\n",
       "                for (var i = 0; i < nbb_cells.length; ++i) {\n",
       "                    if (nbb_cells[i].input_prompt_number == nbb_cell_id) {\n",
       "                        if (nbb_cells[i].get_text() == nbb_unformatted_code) {\n",
       "                             nbb_cells[i].set_text(nbb_formatted_code);\n",
       "                        }\n",
       "                        break;\n",
       "                    }\n",
       "                }\n",
       "            }, 500);\n",
       "            "
      ],
      "text/plain": [
       "<IPython.core.display.Javascript object>"
      ]
     },
     "metadata": {},
     "output_type": "display_data"
    }
   ],
   "source": [
    "BATCH_SIZE = 32\n",
    "num_train_examples = metadata.splits[\"train\"].num_examples\n",
    "num_test_examples = metadata.splits[\"test\"].num_examples\n",
    "train_dataset = (\n",
    "    train_dataset.cache().repeat().shuffle(num_train_examples).batch(BATCH_SIZE)\n",
    ")\n",
    "test_dataset = test_dataset.cache().batch(BATCH_SIZE)"
   ]
  },
  {
   "cell_type": "code",
   "execution_count": 18,
   "id": "primary-latino",
   "metadata": {},
   "outputs": [
    {
     "name": "stdout",
     "output_type": "stream",
     "text": [
      "Epoch 1/5\n",
      "1875/1875 [==============================] - 7s 2ms/step - loss: 0.6308 - accuracy: 0.7791\n",
      "Epoch 2/5\n",
      "1875/1875 [==============================] - 3s 2ms/step - loss: 0.3933 - accuracy: 0.8579\n",
      "Epoch 3/5\n",
      "1875/1875 [==============================] - 3s 2ms/step - loss: 0.3420 - accuracy: 0.8754\n",
      "Epoch 4/5\n",
      "1875/1875 [==============================] - 3s 2ms/step - loss: 0.3144 - accuracy: 0.8849\n",
      "Epoch 5/5\n",
      "1875/1875 [==============================] - 3s 2ms/step - loss: 0.3051 - accuracy: 0.8891\n"
     ]
    },
    {
     "data": {
      "text/plain": [
       "<tensorflow.python.keras.callbacks.History at 0x2c51b0baeb0>"
      ]
     },
     "execution_count": 18,
     "metadata": {},
     "output_type": "execute_result"
    },
    {
     "data": {
      "application/javascript": [
       "\n",
       "            setTimeout(function() {\n",
       "                var nbb_cell_id = 18;\n",
       "                var nbb_unformatted_code = \"model.fit(\\n    train_dataset, epochs=5, steps_per_epoch=math.ceil(num_train_examples / BATCH_SIZE)\\n)\";\n",
       "                var nbb_formatted_code = \"model.fit(\\n    train_dataset, epochs=5, steps_per_epoch=math.ceil(num_train_examples / BATCH_SIZE)\\n)\";\n",
       "                var nbb_cells = Jupyter.notebook.get_cells();\n",
       "                for (var i = 0; i < nbb_cells.length; ++i) {\n",
       "                    if (nbb_cells[i].input_prompt_number == nbb_cell_id) {\n",
       "                        if (nbb_cells[i].get_text() == nbb_unformatted_code) {\n",
       "                             nbb_cells[i].set_text(nbb_formatted_code);\n",
       "                        }\n",
       "                        break;\n",
       "                    }\n",
       "                }\n",
       "            }, 500);\n",
       "            "
      ],
      "text/plain": [
       "<IPython.core.display.Javascript object>"
      ]
     },
     "metadata": {},
     "output_type": "display_data"
    }
   ],
   "source": [
    "model.fit(\n",
    "    train_dataset, epochs=5, steps_per_epoch=math.ceil(num_train_examples / BATCH_SIZE)\n",
    ")"
   ]
  },
  {
   "cell_type": "code",
   "execution_count": 23,
   "id": "dying-colleague",
   "metadata": {},
   "outputs": [
    {
     "name": "stdout",
     "output_type": "stream",
     "text": [
      "313/313 [==============================] - 0s 1ms/step - loss: 0.3666 - accuracy: 0.8692\n",
      "Accuracy on test dataset: 0.8691999912261963\n"
     ]
    },
    {
     "data": {
      "application/javascript": [
       "\n",
       "            setTimeout(function() {\n",
       "                var nbb_cell_id = 23;\n",
       "                var nbb_unformatted_code = \"test_loss, test_accuracy = model.evaluate(\\n    test_dataset, steps=math.ceil(num_test_examples / 32)\\n)\\nprint(\\\"Accuracy on test dataset:\\\", test_accuracy)\\nfor test_images, test_labels in test_dataset.take(1):\\n  test_images = test_images.numpy()\\n  test_labels = test_labels.numpy()\\n  predictions = model.predict(test_images)\";\n",
       "                var nbb_formatted_code = \"test_loss, test_accuracy = model.evaluate(\\n    test_dataset, steps=math.ceil(num_test_examples / 32)\\n)\\nprint(\\\"Accuracy on test dataset:\\\", test_accuracy)\\nfor test_images, test_labels in test_dataset.take(1):\\n    test_images = test_images.numpy()\\n    test_labels = test_labels.numpy()\\n    predictions = model.predict(test_images)\";\n",
       "                var nbb_cells = Jupyter.notebook.get_cells();\n",
       "                for (var i = 0; i < nbb_cells.length; ++i) {\n",
       "                    if (nbb_cells[i].input_prompt_number == nbb_cell_id) {\n",
       "                        if (nbb_cells[i].get_text() == nbb_unformatted_code) {\n",
       "                             nbb_cells[i].set_text(nbb_formatted_code);\n",
       "                        }\n",
       "                        break;\n",
       "                    }\n",
       "                }\n",
       "            }, 500);\n",
       "            "
      ],
      "text/plain": [
       "<IPython.core.display.Javascript object>"
      ]
     },
     "metadata": {},
     "output_type": "display_data"
    }
   ],
   "source": [
    "test_loss, test_accuracy = model.evaluate(\n",
    "    test_dataset, steps=math.ceil(num_test_examples / 32)\n",
    ")\n",
    "print(\"Accuracy on test dataset:\", test_accuracy)\n",
    "for test_images, test_labels in test_dataset.take(1):\n",
    "    test_images = test_images.numpy()\n",
    "    test_labels = test_labels.numpy()\n",
    "    predictions = model.predict(test_images)"
   ]
  },
  {
   "cell_type": "code",
   "execution_count": 33,
   "id": "technological-questionnaire",
   "metadata": {},
   "outputs": [
    {
     "data": {
      "application/javascript": [
       "\n",
       "            setTimeout(function() {\n",
       "                var nbb_cell_id = 33;\n",
       "                var nbb_unformatted_code = \"def plot_image(i, predictions_array, true_labels, images, ax=None):\\n    \\\"\\\"\\\"\\n    Plot a predicted image against its predicted label.\\n    \\\"\\\"\\\"\\n    if ax is None:\\n        fig, ax = plt.subplots()\\n    ax.imshow(images[i], cmap=plt.cm.binary)\\n    ax.set_xticks([])\\n    ax.set_yticks([])\\n    predicted_label = np.argmax(predictions_array[i])\\n    ax.set_xlabel(\\n        f\\\"{class_names[predicted_label]} {100*np.max(predictions_array[i]):.2f}\\\",\\n        color=\\\"blue\\\" if predicted_label==true_labels[i] else \\\"red\\\"\\n    )\\n    return ax\";\n",
       "                var nbb_formatted_code = \"def plot_image(i, predictions_array, true_labels, images, ax=None):\\n    \\\"\\\"\\\"\\n    Plot a predicted image against its predicted label.\\n    \\\"\\\"\\\"\\n    if ax is None:\\n        fig, ax = plt.subplots()\\n    ax.imshow(images[i], cmap=plt.cm.binary)\\n    ax.set_xticks([])\\n    ax.set_yticks([])\\n    predicted_label = np.argmax(predictions_array[i])\\n    ax.set_xlabel(\\n        f\\\"{class_names[predicted_label]} {100*np.max(predictions_array[i]):.2f}\\\",\\n        color=\\\"blue\\\" if predicted_label == true_labels[i] else \\\"red\\\",\\n    )\\n    return ax\";\n",
       "                var nbb_cells = Jupyter.notebook.get_cells();\n",
       "                for (var i = 0; i < nbb_cells.length; ++i) {\n",
       "                    if (nbb_cells[i].input_prompt_number == nbb_cell_id) {\n",
       "                        if (nbb_cells[i].get_text() == nbb_unformatted_code) {\n",
       "                             nbb_cells[i].set_text(nbb_formatted_code);\n",
       "                        }\n",
       "                        break;\n",
       "                    }\n",
       "                }\n",
       "            }, 500);\n",
       "            "
      ],
      "text/plain": [
       "<IPython.core.display.Javascript object>"
      ]
     },
     "metadata": {},
     "output_type": "display_data"
    }
   ],
   "source": [
    "def plot_image(i, predictions_array, true_labels, images, ax=None):\n",
    "    \"\"\"\n",
    "    Plot a predicted image against its predicted label.\n",
    "    \"\"\"\n",
    "    if ax is None:\n",
    "        fig, ax = plt.subplots()\n",
    "    ax.imshow(images[i], cmap=plt.cm.binary)\n",
    "    ax.set_xticks([])\n",
    "    ax.set_yticks([])\n",
    "    predicted_label = np.argmax(predictions_array[i])\n",
    "    ax.set_xlabel(\n",
    "        f\"{class_names[predicted_label]} {100*np.max(predictions_array[i]):.2f}\",\n",
    "        color=\"blue\" if predicted_label == true_labels[i] else \"red\",\n",
    "    )\n",
    "    return ax"
   ]
  },
  {
   "cell_type": "code",
   "execution_count": 34,
   "id": "bibliographic-price",
   "metadata": {},
   "outputs": [
    {
     "data": {
      "image/png": "[encoded data removed]",
      "text/plain": [
       "<Figure size 432x288 with 25 Axes>"
      ]
     },
     "metadata": {},
     "output_type": "display_data"
    },
    {
     "data": {
      "application/javascript": [
       "\n",
       "            setTimeout(function() {\n",
       "                var nbb_cell_id = 34;\n",
       "                var nbb_unformatted_code = \"fig, axes = plt.subplots(5, 5)\\n\\nfor i in range(5):\\n    for j in range(5):\\n        plot_image((i * 5) + j, predictions, test_labels, test_images, ax=axes[i, j])\";\n",
       "                var nbb_formatted_code = \"fig, axes = plt.subplots(5, 5)\\n\\nfor i in range(5):\\n    for j in range(5):\\n        plot_image((i * 5) + j, predictions, test_labels, test_images, ax=axes[i, j])\";\n",
       "                var nbb_cells = Jupyter.notebook.get_cells();\n",
       "                for (var i = 0; i < nbb_cells.length; ++i) {\n",
       "                    if (nbb_cells[i].input_prompt_number == nbb_cell_id) {\n",
       "                        if (nbb_cells[i].get_text() == nbb_unformatted_code) {\n",
       "                             nbb_cells[i].set_text(nbb_formatted_code);\n",
       "                        }\n",
       "                        break;\n",
       "                    }\n",
       "                }\n",
       "            }, 500);\n",
       "            "
      ],
      "text/plain": [
       "<IPython.core.display.Javascript object>"
      ]
     },
     "metadata": {},
     "output_type": "display_data"
    }
   ],
   "source": [
    "fig, axes = plt.subplots(5, 5)\n",
    "\n",
    "for i in range(5):\n",
    "    for j in range(5):\n",
    "        plot_image((i * 5) + j, predictions, test_labels, test_images, ax=axes[i, j])"
   ]
  },
  {
   "cell_type": "markdown",
   "id": "delayed-heather",
   "metadata": {},
   "source": [
    "# Exercises\n"
   ]
  },
  {
   "cell_type": "markdown",
   "id": "undefined-nightlife",
   "metadata": {},
   "source": [
    "Only one training epoch: accuracy is worse at 84%"
   ]
  },
  {
   "cell_type": "code",
   "execution_count": 36,
   "id": "narrative-corruption",
   "metadata": {},
   "outputs": [
    {
     "name": "stdout",
     "output_type": "stream",
     "text": [
      "1875/1875 [==============================] - 4s 2ms/step - loss: 0.6213 - accuracy: 0.7862\n",
      "313/313 [==============================] - 0s 1ms/step - loss: 0.4457 - accuracy: 0.8403\n",
      "Accuracy on test dataset: 0.8403000235557556\n"
     ]
    },
    {
     "data": {
      "application/javascript": [
       "\n",
       "            setTimeout(function() {\n",
       "                var nbb_cell_id = 36;\n",
       "                var nbb_unformatted_code = \"model = tf.keras.Sequential(\\n    [\\n        tf.keras.layers.Flatten(input_shape=(28, 28)),\\n        tf.keras.layers.Dense(128, activation=tf.nn.relu),\\n        tf.keras.layers.Dense(10),\\n    ]\\n)\\nmodel.compile(\\n    optimizer=\\\"adam\\\",\\n    loss=tf.keras.losses.SparseCategoricalCrossentropy(from_logits=True),\\n    metrics=[\\\"accuracy\\\"],\\n)\\nmodel.fit(\\n    train_dataset, epochs=1, steps_per_epoch=math.ceil(num_train_examples / BATCH_SIZE)\\n)\\ntest_loss, test_accuracy = model.evaluate(\\n    test_dataset, steps=math.ceil(num_test_examples / 32)\\n)\\nprint(\\\"Accuracy on test dataset:\\\", test_accuracy)\";\n",
       "                var nbb_formatted_code = \"model = tf.keras.Sequential(\\n    [\\n        tf.keras.layers.Flatten(input_shape=(28, 28)),\\n        tf.keras.layers.Dense(128, activation=tf.nn.relu),\\n        tf.keras.layers.Dense(10),\\n    ]\\n)\\nmodel.compile(\\n    optimizer=\\\"adam\\\",\\n    loss=tf.keras.losses.SparseCategoricalCrossentropy(from_logits=True),\\n    metrics=[\\\"accuracy\\\"],\\n)\\nmodel.fit(\\n    train_dataset, epochs=1, steps_per_epoch=math.ceil(num_train_examples / BATCH_SIZE)\\n)\\ntest_loss, test_accuracy = model.evaluate(\\n    test_dataset, steps=math.ceil(num_test_examples / 32)\\n)\\nprint(\\\"Accuracy on test dataset:\\\", test_accuracy)\";\n",
       "                var nbb_cells = Jupyter.notebook.get_cells();\n",
       "                for (var i = 0; i < nbb_cells.length; ++i) {\n",
       "                    if (nbb_cells[i].input_prompt_number == nbb_cell_id) {\n",
       "                        if (nbb_cells[i].get_text() == nbb_unformatted_code) {\n",
       "                             nbb_cells[i].set_text(nbb_formatted_code);\n",
       "                        }\n",
       "                        break;\n",
       "                    }\n",
       "                }\n",
       "            }, 500);\n",
       "            "
      ],
      "text/plain": [
       "<IPython.core.display.Javascript object>"
      ]
     },
     "metadata": {},
     "output_type": "display_data"
    }
   ],
   "source": [
    "model = tf.keras.Sequential(\n",
    "    [\n",
    "        tf.keras.layers.Flatten(input_shape=(28, 28)),\n",
    "        tf.keras.layers.Dense(128, activation=tf.nn.relu),\n",
    "        tf.keras.layers.Dense(10),\n",
    "    ]\n",
    ")\n",
    "model.compile(\n",
    "    optimizer=\"adam\",\n",
    "    loss=tf.keras.losses.SparseCategoricalCrossentropy(from_logits=True),\n",
    "    metrics=[\"accuracy\"],\n",
    ")\n",
    "model.fit(\n",
    "    train_dataset, epochs=1, steps_per_epoch=math.ceil(num_train_examples / BATCH_SIZE)\n",
    ")\n",
    "test_loss, test_accuracy = model.evaluate(\n",
    "    test_dataset, steps=math.ceil(num_test_examples / 32)\n",
    ")\n",
    "print(\"Accuracy on test dataset:\", test_accuracy)"
   ]
  },
  {
   "cell_type": "markdown",
   "id": "naughty-latex",
   "metadata": {},
   "source": [
    "Different numbers of neurons in the dense layer:\n",
    "    512: 87.9%\n",
    "    128: 86.9%\n",
    "    16: 83.8%\n",
    "but there is a risk of overfitting / wasting time"
   ]
  },
  {
   "cell_type": "code",
   "execution_count": 38,
   "id": "acquired-timber",
   "metadata": {},
   "outputs": [
    {
     "name": "stdout",
     "output_type": "stream",
     "text": [
      "Epoch 1/5\n",
      "1875/1875 [==============================] - 4s 2ms/step - loss: 0.5797 - accuracy: 0.7955\n",
      "Epoch 2/5\n",
      "1875/1875 [==============================] - 3s 2ms/step - loss: 0.3713 - accuracy: 0.8653\n",
      "Epoch 3/5\n",
      "1875/1875 [==============================] - 4s 2ms/step - loss: 0.3211 - accuracy: 0.8801\n",
      "Epoch 4/5\n",
      "1875/1875 [==============================] - 3s 2ms/step - loss: 0.3046 - accuracy: 0.8878\n",
      "Epoch 5/5\n",
      "1875/1875 [==============================] - 3s 2ms/step - loss: 0.2795 - accuracy: 0.8966\n",
      "313/313 [==============================] - 1s 1ms/step - loss: 0.3490 - accuracy: 0.8798\n",
      "Accuracy on test dataset: 0.879800021648407\n"
     ]
    },
    {
     "data": {
      "application/javascript": [
       "\n",
       "            setTimeout(function() {\n",
       "                var nbb_cell_id = 38;\n",
       "                var nbb_unformatted_code = \"model = tf.keras.Sequential(\\n    [\\n        tf.keras.layers.Flatten(input_shape=(28, 28)),\\n        tf.keras.layers.Dense(512, activation=tf.nn.relu),\\n        tf.keras.layers.Dense(10),\\n    ]\\n)\\nmodel.compile(\\n    optimizer=\\\"adam\\\",\\n    loss=tf.keras.losses.SparseCategoricalCrossentropy(from_logits=True),\\n    metrics=[\\\"accuracy\\\"],\\n)\\nmodel.fit(\\n    train_dataset, epochs=5, steps_per_epoch=math.ceil(num_train_examples / BATCH_SIZE)\\n)\\ntest_loss, test_accuracy = model.evaluate(\\n    test_dataset, steps=math.ceil(num_test_examples / 32)\\n)\\nprint(\\\"Accuracy on test dataset:\\\", test_accuracy)\";\n",
       "                var nbb_formatted_code = \"model = tf.keras.Sequential(\\n    [\\n        tf.keras.layers.Flatten(input_shape=(28, 28)),\\n        tf.keras.layers.Dense(512, activation=tf.nn.relu),\\n        tf.keras.layers.Dense(10),\\n    ]\\n)\\nmodel.compile(\\n    optimizer=\\\"adam\\\",\\n    loss=tf.keras.losses.SparseCategoricalCrossentropy(from_logits=True),\\n    metrics=[\\\"accuracy\\\"],\\n)\\nmodel.fit(\\n    train_dataset, epochs=5, steps_per_epoch=math.ceil(num_train_examples / BATCH_SIZE)\\n)\\ntest_loss, test_accuracy = model.evaluate(\\n    test_dataset, steps=math.ceil(num_test_examples / 32)\\n)\\nprint(\\\"Accuracy on test dataset:\\\", test_accuracy)\";\n",
       "                var nbb_cells = Jupyter.notebook.get_cells();\n",
       "                for (var i = 0; i < nbb_cells.length; ++i) {\n",
       "                    if (nbb_cells[i].input_prompt_number == nbb_cell_id) {\n",
       "                        if (nbb_cells[i].get_text() == nbb_unformatted_code) {\n",
       "                             nbb_cells[i].set_text(nbb_formatted_code);\n",
       "                        }\n",
       "                        break;\n",
       "                    }\n",
       "                }\n",
       "            }, 500);\n",
       "            "
      ],
      "text/plain": [
       "<IPython.core.display.Javascript object>"
      ]
     },
     "metadata": {},
     "output_type": "display_data"
    }
   ],
   "source": [
    "model = tf.keras.Sequential(\n",
    "    [\n",
    "        tf.keras.layers.Flatten(input_shape=(28, 28)),\n",
    "        tf.keras.layers.Dense(512, activation=tf.nn.relu),\n",
    "        tf.keras.layers.Dense(10),\n",
    "    ]\n",
    ")\n",
    "model.compile(\n",
    "    optimizer=\"adam\",\n",
    "    loss=tf.keras.losses.SparseCategoricalCrossentropy(from_logits=True),\n",
    "    metrics=[\"accuracy\"],\n",
    ")\n",
    "model.fit(\n",
    "    train_dataset, epochs=5, steps_per_epoch=math.ceil(num_train_examples / BATCH_SIZE)\n",
    ")\n",
    "test_loss, test_accuracy = model.evaluate(\n",
    "    test_dataset, steps=math.ceil(num_test_examples / 32)\n",
    ")\n",
    "print(\"Accuracy on test dataset:\", test_accuracy)"
   ]
  },
  {
   "cell_type": "code",
   "execution_count": 39,
   "id": "figured-guatemala",
   "metadata": {},
   "outputs": [
    {
     "name": "stdout",
     "output_type": "stream",
     "text": [
      "Epoch 1/5\n",
      "1875/1875 [==============================] - 4s 2ms/step - loss: 0.7747 - accuracy: 0.7312\n",
      "Epoch 2/5\n",
      "1875/1875 [==============================] - 3s 2ms/step - loss: 0.4570 - accuracy: 0.8417\n",
      "Epoch 3/5\n",
      "1875/1875 [==============================] - 3s 2ms/step - loss: 0.4195 - accuracy: 0.8533\n",
      "Epoch 4/5\n",
      "1875/1875 [==============================] - 3s 2ms/step - loss: 0.4031 - accuracy: 0.8610\n",
      "Epoch 5/5\n",
      "1875/1875 [==============================] - 3s 2ms/step - loss: 0.3945 - accuracy: 0.8607\n",
      "313/313 [==============================] - 1s 1ms/step - loss: 0.4589 - accuracy: 0.8388\n",
      "Accuracy on test dataset: 0.8388000130653381\n"
     ]
    },
    {
     "data": {
      "application/javascript": [
       "\n",
       "            setTimeout(function() {\n",
       "                var nbb_cell_id = 39;\n",
       "                var nbb_unformatted_code = \"model = tf.keras.Sequential(\\n    [\\n        tf.keras.layers.Flatten(input_shape=(28, 28)),\\n        tf.keras.layers.Dense(16, activation=tf.nn.relu),\\n        tf.keras.layers.Dense(10),\\n    ]\\n)\\nmodel.compile(\\n    optimizer=\\\"adam\\\",\\n    loss=tf.keras.losses.SparseCategoricalCrossentropy(from_logits=True),\\n    metrics=[\\\"accuracy\\\"],\\n)\\nmodel.fit(\\n    train_dataset, epochs=5, steps_per_epoch=math.ceil(num_train_examples / BATCH_SIZE)\\n)\\ntest_loss, test_accuracy = model.evaluate(\\n    test_dataset, steps=math.ceil(num_test_examples / 32)\\n)\\nprint(\\\"Accuracy on test dataset:\\\", test_accuracy)\";\n",
       "                var nbb_formatted_code = \"model = tf.keras.Sequential(\\n    [\\n        tf.keras.layers.Flatten(input_shape=(28, 28)),\\n        tf.keras.layers.Dense(16, activation=tf.nn.relu),\\n        tf.keras.layers.Dense(10),\\n    ]\\n)\\nmodel.compile(\\n    optimizer=\\\"adam\\\",\\n    loss=tf.keras.losses.SparseCategoricalCrossentropy(from_logits=True),\\n    metrics=[\\\"accuracy\\\"],\\n)\\nmodel.fit(\\n    train_dataset, epochs=5, steps_per_epoch=math.ceil(num_train_examples / BATCH_SIZE)\\n)\\ntest_loss, test_accuracy = model.evaluate(\\n    test_dataset, steps=math.ceil(num_test_examples / 32)\\n)\\nprint(\\\"Accuracy on test dataset:\\\", test_accuracy)\";\n",
       "                var nbb_cells = Jupyter.notebook.get_cells();\n",
       "                for (var i = 0; i < nbb_cells.length; ++i) {\n",
       "                    if (nbb_cells[i].input_prompt_number == nbb_cell_id) {\n",
       "                        if (nbb_cells[i].get_text() == nbb_unformatted_code) {\n",
       "                             nbb_cells[i].set_text(nbb_formatted_code);\n",
       "                        }\n",
       "                        break;\n",
       "                    }\n",
       "                }\n",
       "            }, 500);\n",
       "            "
      ],
      "text/plain": [
       "<IPython.core.display.Javascript object>"
      ]
     },
     "metadata": {},
     "output_type": "display_data"
    }
   ],
   "source": [
    "model = tf.keras.Sequential(\n",
    "    [\n",
    "        tf.keras.layers.Flatten(input_shape=(28, 28)),\n",
    "        tf.keras.layers.Dense(16, activation=tf.nn.relu),\n",
    "        tf.keras.layers.Dense(10),\n",
    "    ]\n",
    ")\n",
    "model.compile(\n",
    "    optimizer=\"adam\",\n",
    "    loss=tf.keras.losses.SparseCategoricalCrossentropy(from_logits=True),\n",
    "    metrics=[\"accuracy\"],\n",
    ")\n",
    "model.fit(\n",
    "    train_dataset, epochs=5, steps_per_epoch=math.ceil(num_train_examples / BATCH_SIZE)\n",
    ")\n",
    "test_loss, test_accuracy = model.evaluate(\n",
    "    test_dataset, steps=math.ceil(num_test_examples / 32)\n",
    ")\n",
    "print(\"Accuracy on test dataset:\", test_accuracy)"
   ]
  },
  {
   "cell_type": "code",
   "execution_count": 40,
   "id": "stainless-contract",
   "metadata": {},
   "outputs": [
    {
     "name": "stdout",
     "output_type": "stream",
     "text": [
      "Epoch 1/5\n",
      "1875/1875 [==============================] - 4s 2ms/step - loss: 0.6132 - accuracy: 0.7847\n",
      "Epoch 2/5\n",
      "1875/1875 [==============================] - 3s 2ms/step - loss: 0.3693 - accuracy: 0.8658\n",
      "Epoch 3/5\n",
      "1875/1875 [==============================] - 3s 2ms/step - loss: 0.3393 - accuracy: 0.8766\n",
      "Epoch 4/5\n",
      "1875/1875 [==============================] - 3s 2ms/step - loss: 0.3141 - accuracy: 0.8837\n",
      "Epoch 5/5\n",
      "1875/1875 [==============================] - 3s 2ms/step - loss: 0.2839 - accuracy: 0.8949\n",
      "313/313 [==============================] - 1s 1ms/step - loss: 0.3437 - accuracy: 0.8747\n",
      "Accuracy on test dataset: 0.8747000098228455\n"
     ]
    },
    {
     "data": {
      "application/javascript": [
       "\n",
       "            setTimeout(function() {\n",
       "                var nbb_cell_id = 40;\n",
       "                var nbb_unformatted_code = \"model = tf.keras.Sequential(\\n    [\\n        tf.keras.layers.Flatten(input_shape=(28, 28)),\\n        tf.keras.layers.Dense(128, activation=tf.nn.relu),\\n        tf.keras.layers.Dense(128, activation=tf.nn.relu),\\n        tf.keras.layers.Dense(10),\\n    ]\\n)\\nmodel.compile(\\n    optimizer=\\\"adam\\\",\\n    loss=tf.keras.losses.SparseCategoricalCrossentropy(from_logits=True),\\n    metrics=[\\\"accuracy\\\"],\\n)\\nmodel.fit(\\n    train_dataset, epochs=5, steps_per_epoch=math.ceil(num_train_examples / BATCH_SIZE)\\n)\\ntest_loss, test_accuracy = model.evaluate(\\n    test_dataset, steps=math.ceil(num_test_examples / 32)\\n)\\nprint(\\\"Accuracy on test dataset:\\\", test_accuracy)\";\n",
       "                var nbb_formatted_code = \"model = tf.keras.Sequential(\\n    [\\n        tf.keras.layers.Flatten(input_shape=(28, 28)),\\n        tf.keras.layers.Dense(128, activation=tf.nn.relu),\\n        tf.keras.layers.Dense(128, activation=tf.nn.relu),\\n        tf.keras.layers.Dense(10),\\n    ]\\n)\\nmodel.compile(\\n    optimizer=\\\"adam\\\",\\n    loss=tf.keras.losses.SparseCategoricalCrossentropy(from_logits=True),\\n    metrics=[\\\"accuracy\\\"],\\n)\\nmodel.fit(\\n    train_dataset, epochs=5, steps_per_epoch=math.ceil(num_train_examples / BATCH_SIZE)\\n)\\ntest_loss, test_accuracy = model.evaluate(\\n    test_dataset, steps=math.ceil(num_test_examples / 32)\\n)\\nprint(\\\"Accuracy on test dataset:\\\", test_accuracy)\";\n",
       "                var nbb_cells = Jupyter.notebook.get_cells();\n",
       "                for (var i = 0; i < nbb_cells.length; ++i) {\n",
       "                    if (nbb_cells[i].input_prompt_number == nbb_cell_id) {\n",
       "                        if (nbb_cells[i].get_text() == nbb_unformatted_code) {\n",
       "                             nbb_cells[i].set_text(nbb_formatted_code);\n",
       "                        }\n",
       "                        break;\n",
       "                    }\n",
       "                }\n",
       "            }, 500);\n",
       "            "
      ],
      "text/plain": [
       "<IPython.core.display.Javascript object>"
      ]
     },
     "metadata": {},
     "output_type": "display_data"
    }
   ],
   "source": [
    "model = tf.keras.Sequential(\n",
    "    [\n",
    "        tf.keras.layers.Flatten(input_shape=(28, 28)),\n",
    "        tf.keras.layers.Dense(128, activation=tf.nn.relu),\n",
    "        tf.keras.layers.Dense(128, activation=tf.nn.relu),\n",
    "        tf.keras.layers.Dense(10),\n",
    "    ]\n",
    ")\n",
    "model.compile(\n",
    "    optimizer=\"adam\",\n",
    "    loss=tf.keras.losses.SparseCategoricalCrossentropy(from_logits=True),\n",
    "    metrics=[\"accuracy\"],\n",
    ")\n",
    "model.fit(\n",
    "    train_dataset, epochs=5, steps_per_epoch=math.ceil(num_train_examples / BATCH_SIZE)\n",
    ")\n",
    "test_loss, test_accuracy = model.evaluate(\n",
    "    test_dataset, steps=math.ceil(num_test_examples / 32)\n",
    ")\n",
    "print(\"Accuracy on test dataset:\", test_accuracy)"
   ]
  },
  {
   "cell_type": "code",
   "execution_count": null,
   "id": "handy-tribune",
   "metadata": {},
   "outputs": [],
   "source": []
  }
 ],
 "metadata": {
  "kernelspec": {
   "display_name": "Python 3",
   "language": "python",
   "name": "python3"
  },
  "language_info": {
   "codemirror_mode": {
    "name": "ipython",
    "version": 3
   },
   "file_extension": ".py",
   "mimetype": "text/x-python",
   "name": "python",
   "nbconvert_exporter": "python",
   "pygments_lexer": "ipython3",
   "version": "3.8.8"
  }
 },
 "nbformat": 4,
 "nbformat_minor": 5
}
